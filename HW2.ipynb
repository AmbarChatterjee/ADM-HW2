{
 "cells": [
  {
   "cell_type": "markdown",
   "metadata": {},
   "source": [
    "# Setting up environment and Loading data from json file into dataframe"
   ]
  },
  {
   "cell_type": "code",
   "execution_count": 1,
   "metadata": {},
   "outputs": [],
   "source": [
    "# To run this file, you need to have Spark installed.\n",
    "# Initializing SparkSession\n",
    "from pyspark.sql import SparkSession\n",
    "spark = SparkSession \\\n",
    ".builder \\\n",
    ".appName(\"Python Spark SQL basic example\") \\\n",
    ".config(\"spark.some.config.option\", \"some-value\") \\\n",
    ".getOrCreate()"
   ]
  },
  {
   "cell_type": "code",
   "execution_count": null,
   "metadata": {},
   "outputs": [],
   "source": [
    "# import packages\n",
    "import numpy as np\n",
    "import pandas as pd\n",
    "import matplotlib.pyplot as plt\n",
    "import math\n",
    "import seaborn as sns"
   ]
  },
  {
   "cell_type": "code",
   "execution_count": 2,
   "metadata": {},
   "outputs": [],
   "source": [
    "# Load the data\n",
    "df_lighter_books = spark.read.json(\"lighter_books.json\")\n",
    "df_lighter_authors = spark.read.json(\"lighter_authors.json\")"
   ]
  },
  {
   "cell_type": "markdown",
   "metadata": {},
   "source": [
    "# EDA"
   ]
  },
  {
   "cell_type": "code",
   "execution_count": 5,
   "metadata": {},
   "outputs": [
    {
     "name": "stdout",
     "output_type": "stream",
     "text": [
      "root\n",
      " |-- asin: string (nullable = true)\n",
      " |-- author_id: long (nullable = true)\n",
      " |-- author_name: string (nullable = true)\n",
      " |-- authors: array (nullable = true)\n",
      " |    |-- element: struct (containsNull = true)\n",
      " |    |    |-- id: string (nullable = true)\n",
      " |    |    |-- name: string (nullable = true)\n",
      " |    |    |-- role: string (nullable = true)\n",
      " |-- average_rating: double (nullable = true)\n",
      " |-- description: string (nullable = true)\n",
      " |-- edition_information: string (nullable = true)\n",
      " |-- format: string (nullable = true)\n",
      " |-- id: long (nullable = true)\n",
      " |-- image_url: string (nullable = true)\n",
      " |-- isbn: string (nullable = true)\n",
      " |-- isbn13: string (nullable = true)\n",
      " |-- language: string (nullable = true)\n",
      " |-- num_pages: long (nullable = true)\n",
      " |-- original_publication_date: string (nullable = true)\n",
      " |-- publication_date: string (nullable = true)\n",
      " |-- publisher: string (nullable = true)\n",
      " |-- rating_dist: string (nullable = true)\n",
      " |-- ratings_count: long (nullable = true)\n",
      " |-- series_id: string (nullable = true)\n",
      " |-- series_name: string (nullable = true)\n",
      " |-- series_position: string (nullable = true)\n",
      " |-- shelves: array (nullable = true)\n",
      " |    |-- element: struct (containsNull = true)\n",
      " |    |    |-- count: long (nullable = true)\n",
      " |    |    |-- name: string (nullable = true)\n",
      " |-- text_reviews_count: long (nullable = true)\n",
      " |-- title: string (nullable = true)\n",
      " |-- work_id: long (nullable = true)\n",
      "\n"
     ]
    }
   ],
   "source": [
    "# Print the schema of the dataframe\n",
    "df_lighter_books.printSchema()"
   ]
  },
  {
   "cell_type": "code",
   "execution_count": 6,
   "metadata": {},
   "outputs": [
    {
     "name": "stdout",
     "output_type": "stream",
     "text": [
      "root\n",
      " |-- about: string (nullable = true)\n",
      " |-- average_rating: double (nullable = true)\n",
      " |-- book_ids: array (nullable = true)\n",
      " |    |-- element: string (containsNull = true)\n",
      " |-- fans_count: long (nullable = true)\n",
      " |-- gender: string (nullable = true)\n",
      " |-- id: long (nullable = true)\n",
      " |-- image_url: string (nullable = true)\n",
      " |-- name: string (nullable = true)\n",
      " |-- ratings_count: long (nullable = true)\n",
      " |-- text_reviews_count: long (nullable = true)\n",
      " |-- work_ids: array (nullable = true)\n",
      " |    |-- element: string (containsNull = true)\n",
      " |-- works_count: long (nullable = true)\n",
      "\n"
     ]
    }
   ],
   "source": [
    "# Print the schema of the dataframe\n",
    "df_lighter_authors.printSchema()"
   ]
  },
  {
   "cell_type": "code",
   "execution_count": 9,
   "metadata": {},
   "outputs": [
    {
     "name": "stdout",
     "output_type": "stream",
     "text": [
      "+-------+--------+------------------+-------------------+------------------+--------------------+--------------------+------------------+--------------------+--------------------+--------+--------------------+--------+------------------+-------------------------+------------------+----------------------+--------------------+------------------+-----------------+-----------------------------------+-----------------+------------------+-------+--------------------+\n",
      "|summary|    asin|         author_id|        author_name|    average_rating|         description| edition_information|            format|                  id|           image_url|    isbn|              isbn13|language|         num_pages|original_publication_date|  publication_date|             publisher|         rating_dist|     ratings_count|        series_id|                        series_name|  series_position|text_reviews_count|  title|             work_id|\n",
      "+-------+--------+------------------+-------------------+------------------+--------------------+--------------------+------------------+--------------------+--------------------+--------+--------------------+--------+------------------+-------------------------+------------------+----------------------+--------------------+------------------+-----------------+-----------------------------------+-----------------+------------------+-------+--------------------+\n",
      "|  count| 7027431|           7027431|            7027431|           7027431|             7027431|             7027431|           7027431|             7027431|             7027431| 7027431|             7027431| 7027431|           3955596|                  7027431|           7027431|               7027431|             7027431|           7027431|          7027431|                            7027431|          7027431|           7027431|7027431|             7027431|\n",
      "|   mean|Infinity| 1977792.752914116|               19.0| 3.306187915612408|8.043967999713328E11|4.242511332418796...|189.16666666666666|1.3267196411323996E7|                NULL|Infinity|9.554914350702076E12|    NULL|3049.8654913191335|       1908.9786988621665|1993.1070724310548|              Infinity|                NULL|19458.609666035853| 99101.0692560757|                           Infinity|9.504727572188992| 641.7257807298286|    NaN|1.3985330931168588E7|\n",
      "| stddev|     NaN|3210660.4887492205|                0.0|1.4357340879502622|2.711230852241999E12|1.802437181368137...|187.87380516364345|   7637921.804473934|                NULL|     NaN|1.250444134173931...|    NULL| 2327716.909103579|        304.3699345679781|347.81366636795593|                   NaN|                NULL| 160900.7621571502|64722.70308914834|                                NaN|795.3536595467195| 4169.806199983704|    NaN|1.5356372000695132E7|\n",
      "|    min|        |                 4|\"Big\" John McCarthy|               0.0|                    |                    |                  |                   2|https://i.gr-asse...|        |                    |        |                 0|                         |                  |                      |5:-1|4:1|3:1|2:0|...|                 0|                 |                                   |                 |                 0|       |                  62|\n",
      "|    max|   حورات|          21248016|         Ｔｏｓｈｌ|               5.0|����������Theodor...|                  １|                －|            25521017|https://s.gr-asse...|   ۹۶۴۳۱|               ‏‫‭‭9|     zun|        2147483647|               9999-01-01|        9999-01-01|ＰＨＰ研究所 (PHP新書)|5:9|4:9|3:9|2:8|1...|           7400639|            99999|ＹＡＳＨＡ―夜叉―（小学館文庫全6巻）|               １|            174524|��قديشة|            89721607|\n",
      "+-------+--------+------------------+-------------------+------------------+--------------------+--------------------+------------------+--------------------+--------------------+--------+--------------------+--------+------------------+-------------------------+------------------+----------------------+--------------------+------------------+-----------------+-----------------------------------+-----------------+------------------+-------+--------------------+\n",
      "\n"
     ]
    }
   ],
   "source": [
    "# summary statistics of the dataframe\n",
    "df_lighter_books.describe().show()"
   ]
  },
  {
   "cell_type": "code",
   "execution_count": 10,
   "metadata": {},
   "outputs": [
    {
     "name": "stdout",
     "output_type": "stream",
     "text": [
      "+-------+--------------------+------------------+------------------+---------+------------------+--------------------+-------------------+-----------------+------------------+------------------+\n",
      "|summary|               about|    average_rating|        fans_count|   gender|                id|           image_url|               name|    ratings_count|text_reviews_count|       works_count|\n",
      "+-------+--------------------+------------------+------------------+---------+------------------+--------------------+-------------------+-----------------+------------------+------------------+\n",
      "|  count|              351767|            351767|            351767|   351767|            351767|              351767|             351767|           351767|            351767|            351767|\n",
      "|   mean|   1752.326923076923| 3.651194313281242|111.61573143586521|     NULL|7751861.1911975825|                NULL|           Infinity|4770.586308550831| 330.9932426862099|25.937137366495435|\n",
      "| stddev|   437.4607532493448|1.2114816423862007| 2661.018138865955|     NULL| 6578409.001586667|                NULL|                NaN|97693.95378788888|3857.5391911629276|3066.0828516236857|\n",
      "|    min|\\t\\t\\t\\t\\t\\t\\t\\t(...|             -31.0|               -33|         |                 4|https://images.gr...|\"Big\" John McCarthy|              -41|                 0|                 0|\n",
      "|    max|🥀 Sign up for Ka...|               5.0|            766035|wizardess|          21248016|https://s.gr-asse...|         Ｔｏｓｈｌ|         27003752|            608956|           1775176|\n",
      "+-------+--------------------+------------------+------------------+---------+------------------+--------------------+-------------------+-----------------+------------------+------------------+\n",
      "\n"
     ]
    }
   ],
   "source": [
    "# summary statistics of the dataframe\n",
    "df_lighter_authors.describe().show()"
   ]
  },
  {
   "cell_type": "code",
   "execution_count": 14,
   "metadata": {},
   "outputs": [
    {
     "data": {
      "text/plain": [
       "['asin',\n",
       " 'author_id',\n",
       " 'author_name',\n",
       " 'authors',\n",
       " 'average_rating',\n",
       " 'description',\n",
       " 'edition_information',\n",
       " 'format',\n",
       " 'id',\n",
       " 'image_url',\n",
       " 'isbn',\n",
       " 'isbn13',\n",
       " 'language',\n",
       " 'num_pages',\n",
       " 'original_publication_date',\n",
       " 'publication_date',\n",
       " 'publisher',\n",
       " 'rating_dist',\n",
       " 'ratings_count',\n",
       " 'series_id',\n",
       " 'series_name',\n",
       " 'series_position',\n",
       " 'shelves',\n",
       " 'text_reviews_count',\n",
       " 'title',\n",
       " 'work_id']"
      ]
     },
     "execution_count": 14,
     "metadata": {},
     "output_type": "execute_result"
    }
   ],
   "source": [
    "# columns of the dataframe\n",
    "df_lighter_books.columns"
   ]
  },
  {
   "cell_type": "code",
   "execution_count": 15,
   "metadata": {},
   "outputs": [
    {
     "data": {
      "text/plain": [
       "['about',\n",
       " 'average_rating',\n",
       " 'book_ids',\n",
       " 'fans_count',\n",
       " 'gender',\n",
       " 'id',\n",
       " 'image_url',\n",
       " 'name',\n",
       " 'ratings_count',\n",
       " 'text_reviews_count',\n",
       " 'work_ids',\n",
       " 'works_count']"
      ]
     },
     "execution_count": 15,
     "metadata": {},
     "output_type": "execute_result"
    }
   ],
   "source": [
    "# columns of the dataframe\n",
    "df_lighter_authors.columns"
   ]
  },
  {
   "cell_type": "markdown",
   "metadata": {},
   "source": [
    "##### For running SQL Queries Programmatically, alternatively you can run Queries using \"__from pyspark.sql import functions as F__\""
   ]
  },
  {
   "cell_type": "code",
   "execution_count": 16,
   "metadata": {},
   "outputs": [],
   "source": [
    "# Registering DataFrames as Views\n",
    "df_lighter_books.createOrReplaceTempView(\"lighter_books\")"
   ]
  },
  {
   "cell_type": "code",
   "execution_count": 17,
   "metadata": {},
   "outputs": [],
   "source": [
    "# Registering DataFrames as Views\n",
    "df_lighter_authors.createOrReplaceTempView(\"lighter_authors\")"
   ]
  },
  {
   "cell_type": "markdown",
   "metadata": {},
   "source": [
    "Now that we have loaded the data into pyspark dataframe, we can start exploring the data.\n",
    "Explore the data using pyspark queries and then convert the resultant pyspark dataframe into pandas dataframe for data visualization."
   ]
  },
  {
   "cell_type": "markdown",
   "metadata": {},
   "source": []
  }
 ],
 "metadata": {
  "kernelspec": {
   "display_name": "base",
   "language": "python",
   "name": "python3"
  },
  "language_info": {
   "codemirror_mode": {
    "name": "ipython",
    "version": 3
   },
   "file_extension": ".py",
   "mimetype": "text/x-python",
   "name": "python",
   "nbconvert_exporter": "python",
   "pygments_lexer": "ipython3",
   "version": "3.11.4"
  }
 },
 "nbformat": 4,
 "nbformat_minor": 2
}
