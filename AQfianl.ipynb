{
 "cells": [
  {
   "cell_type": "markdown",
   "id": "45ee7bba-a248-4dd8-ae4c-6d047de0cbec",
   "metadata": {},
   "source": [
    "# Question 1"
   ]
  },
  {
   "cell_type": "code",
   "execution_count": 10,
   "id": "d6b14331-72f2-4fe2-b470-8f7c1856df3a",
   "metadata": {},
   "outputs": [
    {
     "name": "stdin",
     "output_type": "stream",
     "text": [
      "Enter the number of inputs:  8\n",
      "Enter command and value separated by space:  L 75\n",
      "Enter command and value separated by space:  R 20\n",
      "Enter command and value separated by space:  R 30\n",
      "Enter command and value separated by space:  L 11\n",
      "Enter command and value separated by space:  ? 75\n"
     ]
    },
    {
     "name": "stdout",
     "output_type": "stream",
     "text": [
      "1\n"
     ]
    },
    {
     "name": "stdin",
     "output_type": "stream",
     "text": [
      "Enter command and value separated by space:  L 12\n",
      "Enter command and value separated by space:  L 15\n",
      "Enter command and value separated by space:  ? 20\n"
     ]
    },
    {
     "name": "stdout",
     "output_type": "stream",
     "text": [
      "1\n"
     ]
    }
   ],
   "source": [
    "numbers = []\n",
    "\n",
    "n = int(input(\"Enter the number of inputs: \"))\n",
    "\n",
    "for _ in range(n):\n",
    "    command, value = input(\"Enter command and value separated by space: \").split()\n",
    "\n",
    "    if command == \"L\":\n",
    "        numbers.insert(0, value)\n",
    "    elif command == \"R\":\n",
    "        numbers.append(value)\n",
    "    elif command == \"?\":\n",
    "        try:\n",
    "            index = numbers.index(value)\n",
    "            print(min(index, len(numbers) - 1 - index))\n",
    "        except ValueError:\n",
    "            print(\"Value not found in the list.\")\n"
   ]
  },
  {
   "cell_type": "markdown",
   "id": "8e9731fa-09ea-4c1b-ba00-31a5ab4f9861",
   "metadata": {},
   "source": [
    "# Question 2"
   ]
  },
  {
   "cell_type": "markdown",
   "id": "489f00ec-6d1c-4d09-b139-2dff0bbdcef4",
   "metadata": {},
   "source": [
    "operation in a list has a time complexity of O(n), where n is the number of elements in the list. When you insert at the beginning of the list, all existing elements need to be shifted one position to the right. In the worst case, this operation takes O(n) time. Since it's inside a loop of n iterations, the overall complexity becomes O(n^2)."
   ]
  },
  {
   "cell_type": "markdown",
   "id": "dd26eeee-39ef-4d4c-ba78-f94a5eb3ad7f",
   "metadata": {},
   "source": [
    "# Question 3"
   ]
  },
  {
   "cell_type": "code",
   "execution_count": 1,
   "id": "439048fc-a073-4204-b21b-e0495b8ce48d",
   "metadata": {},
   "outputs": [
    {
     "name": "stdin",
     "output_type": "stream",
     "text": [
      "Enter the number of inputs:  8\n",
      "Enter command and value separated by space:  L 75\n",
      "Enter command and value separated by space:  R 20\n",
      "Enter command and value separated by space:  R 30\n",
      "Enter command and value separated by space:  L 11\n",
      "Enter command and value separated by space:  ? 75\n"
     ]
    },
    {
     "name": "stdout",
     "output_type": "stream",
     "text": [
      "0\n"
     ]
    },
    {
     "name": "stdin",
     "output_type": "stream",
     "text": [
      "Enter command and value separated by space:  L 12\n",
      "Enter command and value separated by space:  L 15\n",
      "Enter command and value separated by space:  ? 20\n"
     ]
    },
    {
     "name": "stdout",
     "output_type": "stream",
     "text": [
      "1\n"
     ]
    }
   ],
   "source": [
    "numbers = {}  # Dictionary to store values and their indexes\n",
    "\n",
    "n = int(input(\"Enter the number of inputs: \"))\n",
    "\n",
    "for index in range(n):\n",
    "    command, value = input(\"Enter command and value separated by space: \").split()\n",
    "\n",
    "    if command == \"L\":\n",
    "        if value in numbers:\n",
    "            numbers[value].append(index)  # If the value is already in the dictionary, append the new index\n",
    "        else:\n",
    "            numbers[value] = [index]  # If the value is not in the dictionary, create a new list with the index\n",
    "    elif command == \"R\":\n",
    "        if value in numbers:\n",
    "            numbers[value].append(index)  # If the value is already in the dictionary, append the new index\n",
    "        else:\n",
    "            numbers[value] = [index]  # If the value is not in the dictionary, create a new list with the index\n",
    "    elif command == \"?\":\n",
    "        try:\n",
    "            index_list = numbers[value]  # Retrieve the list of indexes from the dictionary\n",
    "            min_distance = min(index_list[0], n - 1 - index_list[-1])  # Calculate minimum distance\n",
    "            print(min_distance)\n",
    "        except KeyError:\n",
    "            print(\"Value not found in the list.\")\n"
   ]
  },
  {
   "cell_type": "markdown",
   "id": "6376a3eb-3aa8-43e3-9712-d3d247cd5871",
   "metadata": {},
   "source": [
    "In this optimized version, the dictionary numbers stores the values as keys and their corresponding indexes as values. The \"?\" command directly looks up the index in the dictionary, which has an average-case time complexity of O(1). This approach significantly improves the efficiency of the search operation, making the overall time complexity of the code O(n).\n",
    "\n"
   ]
  }
 ],
 "metadata": {
  "kernelspec": {
   "display_name": "Python 3 (ipykernel)",
   "language": "python",
   "name": "python3"
  },
  "language_info": {
   "codemirror_mode": {
    "name": "ipython",
    "version": 3
   },
   "file_extension": ".py",
   "mimetype": "text/x-python",
   "name": "python",
   "nbconvert_exporter": "python",
   "pygments_lexer": "ipython3",
   "version": "3.12.0"
  }
 },
 "nbformat": 4,
 "nbformat_minor": 5
}
