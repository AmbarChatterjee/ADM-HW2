{
 "cells": [
  {
   "cell_type": "markdown",
   "metadata": {},
   "source": [
    "# 1. Implement a code to answer the problem above."
   ]
  },
  {
   "cell_type": "code",
   "execution_count": null,
   "metadata": {},
   "outputs": [],
   "source": [
    "numbers = [] # list of numbers\n",
    "n = int(input()) # number of commands\n",
    "ans = [] # list of answers\n",
    "\n",
    "for _ in range(n):  # for each command\n",
    "    order = input().split() # split command into list\n",
    "\n",
    "    if order[0] == \"L\": # if command is L\n",
    "        numbers.insert(0, int(order[1])) # insert number at the beginning of the list\n",
    "    elif order[0] == \"R\": # if command is R\n",
    "        numbers.append(int(order[1])) # append number at the end of the list\n",
    "    else: # if command is ?\n",
    "        index = numbers.index(int(order[1])) # get index of number\n",
    "        ans.append(min(index, len(numbers) - 1 - index)) # append minimum of index and length of list - 1 - index\n",
    "\n",
    "print(*ans, sep=\"\\n\") # print answers on separate lines"
   ]
  },
  {
   "cell_type": "markdown",
   "metadata": {},
   "source": [
    "-----------------------------------------------------"
   ]
  },
  {
   "cell_type": "markdown",
   "metadata": {},
   "source": [
    "# 2. Ask ChatGPT or any other LLM chatbot tool to check your code's time complexity (the Big O notation). Do you believe this is correct? How can you double-check it? Elaborate about your answer."
   ]
  },
  {
   "cell_type": "markdown",
   "metadata": {},
   "source": [
    "The time complexity of this code can be analyzed by looking at each of the operations performed within the loop:\n",
    "\n",
    "1. `input().split()`: This operation has a time complexity of O(k), where k is the length of the input string. However, we usually consider the time complexity in terms of n, the number of commands, so we can consider this operation as having a constant time complexity, O(1).\n",
    "\n",
    "2. `numbers.insert(0, int(order[1]))`: The `list.insert` operation in Python has a time complexity of O(n), where n is the length of the list. In the worst-case scenario, this operation will need to shift all the elements in the list, so its time complexity is linear.\n",
    "\n",
    "3. `numbers.append(int(order[1]))`: The `list.append` operation in Python has an average time complexity of O(1). However, in some rare cases, when the underlying array needs to be resized, the time complexity could be O(n). But this is an amortized time complexity, and we usually consider `append` to have a constant time complexity.\n",
    "\n",
    "4. `numbers.index(int(order[1]))`: The `list.index` operation in Python has a time complexity of O(n), where n is the length of the list. This operation needs to scan through the list until it finds the element, so in the worst-case scenario, it will scan through the entire list.\n",
    "\n",
    "Considering all these operations, the overall time complexity of the loop is dominated by the operations with the highest time complexity, which are `numbers.insert` and `numbers.index`. Since these operations are performed within a loop that runs n times, the overall time complexity of the code is O(n^2).\n",
    "\n",
    "Yes, I believe this is correct since the loop runs n times, and within each iteration, we perform two operations that have a linear time complexity.\n",
    "\n",
    "-----------------------------------------------------"
   ]
  },
  {
   "cell_type": "markdown",
   "metadata": {},
   "source": [
    "# 3. Is the algorithm proposed in (1.) the optimal one to produce the required output? If not, can you suggest a better algorithm to perform the same task?"
   ]
  },
  {
   "cell_type": "code",
   "execution_count": null,
   "metadata": {},
   "outputs": [],
   "source": [
    "from collections import deque # import deque\n",
    "\n",
    "numbers = deque() # deque of numbers\n",
    "n = int(input()) # number of commands\n",
    "positions = dict() # dictionary of positions\n",
    "ans = [] # list of answers\n",
    "    \n",
    "for _ in range(n):  #  for each command\n",
    "    order = input().split() # split command into list\n",
    "    \n",
    "    if order[0] == 'L': # if command is L\n",
    "        for i in positions: # for each position\n",
    "            positions[i] += 1  # increment position by 1\n",
    "        numbers.appendleft(int(order[1])) # insert book at the beginning of the deque\n",
    "        positions[int(order[1])] = 0 # set position of book to 0\n",
    "    elif order[0] == 'R': # if command is R\n",
    "        numbers.append(int(order[1])) # append book at the end of the deque\n",
    "        positions[int(order[1])] = len(numbers) - 1 # set position of book to length of deque - 1\n",
    "    elif order[0] == '?': # if command is ?\n",
    "        index = positions[int(order[1])] # get position of book\n",
    "        ans.append(min(index, len(numbers) - 1 - index)) # append minimum of index and length of deque - 1 - index\n",
    "\n",
    "print(*ans, sep=\"\\n\") # print answers on separate lines"
   ]
  },
  {
   "cell_type": "markdown",
   "metadata": {},
   "source": [
    "**Comparison:**\n",
    "\n",
    "The algorithm proposed in (1.) has a time complexity of O(n^2), where n is the number of commands. This is because we have a loop that runs n times, and within each iteration, we perform two operations that have a linear time complexity. Therefore, the overall time complexity is O(n^2).\n",
    "\n",
    "The algorithm proposed in (3.) has a time complexity of O(n), where n is the number of commands. This is because we have a loop that runs n times, and within each iteration, we perform two operations that have a constant time complexity. Therefore, the overall time complexity is O(n).\n",
    "\n",
    "-----------------------------------------------------"
   ]
  }
 ],
 "metadata": {
  "kernelspec": {
   "display_name": "base",
   "language": "python",
   "name": "python3"
  },
  "language_info": {
   "codemirror_mode": {
    "name": "ipython",
    "version": 3
   },
   "file_extension": ".py",
   "mimetype": "text/x-python",
   "name": "python",
   "nbconvert_exporter": "python",
   "pygments_lexer": "ipython3",
   "version": "3.11.4"
  }
 },
 "nbformat": 4,
 "nbformat_minor": 2
}
