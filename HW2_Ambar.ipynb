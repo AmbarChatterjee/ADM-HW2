{
 "cells": [
  {
   "cell_type": "markdown",
   "metadata": {},
   "source": [
    "# Setting up environment and Loading data from json file into dataframe"
   ]
  },
  {
   "cell_type": "code",
   "execution_count": 1,
   "metadata": {},
   "outputs": [],
   "source": [
    "# Finally, setup our Spark session\n",
    "from pyspark.sql import SparkSession\n",
    "spark = SparkSession.builder.master(\"local[*]\").getOrCreate()"
   ]
  },
  {
   "cell_type": "code",
   "execution_count": 2,
   "metadata": {},
   "outputs": [
    {
     "data": {
      "text/html": [
       "\n",
       "            <div>\n",
       "                <p><b>SparkSession - in-memory</b></p>\n",
       "                \n",
       "        <div>\n",
       "            <p><b>SparkContext</b></p>\n",
       "\n",
       "            <p><a href=\"http://192.168.1.12:4040\">Spark UI</a></p>\n",
       "\n",
       "            <dl>\n",
       "              <dt>Version</dt>\n",
       "                <dd><code>v3.5.0</code></dd>\n",
       "              <dt>Master</dt>\n",
       "                <dd><code>local[*]</code></dd>\n",
       "              <dt>AppName</dt>\n",
       "                <dd><code>pyspark-shell</code></dd>\n",
       "            </dl>\n",
       "        </div>\n",
       "        \n",
       "            </div>\n",
       "        "
      ],
      "text/plain": [
       "<pyspark.sql.session.SparkSession at 0x1d2d7b477d0>"
      ]
     },
     "execution_count": 2,
     "metadata": {},
     "output_type": "execute_result"
    }
   ],
   "source": [
    "spark"
   ]
  },
  {
   "cell_type": "code",
   "execution_count": 3,
   "metadata": {},
   "outputs": [],
   "source": [
    "# import packages\n",
    "import numpy as np\n",
    "import pandas as pd\n",
    "import matplotlib.pyplot as plt\n",
    "import math\n",
    "import seaborn as sns\n",
    "from pyspark.sql.functions import *\n",
    "from pyspark.sql.functions import col, trim, length, to_date, year, month, collect_list, max\n",
    "from pyspark.sql import functions as F "
   ]
  },
  {
   "cell_type": "code",
   "execution_count": 38,
   "metadata": {},
   "outputs": [],
   "source": [
    "# Load the data\n",
    "df_lighter_books = spark.read.json(\"lighter_books.json\")\n",
    "df_lighter_authors = spark.read.json(\"lighter_authors.json\")"
   ]
  },
  {
   "cell_type": "markdown",
   "metadata": {},
   "source": [
    "## General Data Cleaning/Preprocessing"
   ]
  },
  {
   "cell_type": "code",
   "execution_count": 78,
   "metadata": {},
   "outputs": [],
   "source": [
    "# Drop the duplicates\n",
    "df_lighter_books = df_lighter_books.dropDuplicates()\n",
    "df_lighter_authors = df_lighter_authors.dropDuplicates()"
   ]
  },
  {
   "cell_type": "markdown",
   "metadata": {},
   "source": [
    "# [RQ1] General Exploratory Data Analysis (EDA)"
   ]
  },
  {
   "cell_type": "code",
   "execution_count": 79,
   "metadata": {},
   "outputs": [
    {
     "name": "stdout",
     "output_type": "stream",
     "text": [
      "root\n",
      " |-- asin: string (nullable = true)\n",
      " |-- author_id: long (nullable = true)\n",
      " |-- author_name: string (nullable = true)\n",
      " |-- authors: array (nullable = true)\n",
      " |    |-- element: struct (containsNull = true)\n",
      " |    |    |-- id: string (nullable = true)\n",
      " |    |    |-- name: string (nullable = true)\n",
      " |    |    |-- role: string (nullable = true)\n",
      " |-- average_rating: double (nullable = true)\n",
      " |-- description: string (nullable = true)\n",
      " |-- edition_information: string (nullable = true)\n",
      " |-- format: string (nullable = true)\n",
      " |-- id: long (nullable = true)\n",
      " |-- image_url: string (nullable = true)\n",
      " |-- isbn: string (nullable = true)\n",
      " |-- isbn13: string (nullable = true)\n",
      " |-- language: string (nullable = true)\n",
      " |-- num_pages: long (nullable = true)\n",
      " |-- original_publication_date: string (nullable = true)\n",
      " |-- publication_date: string (nullable = true)\n",
      " |-- publisher: string (nullable = true)\n",
      " |-- rating_dist: string (nullable = true)\n",
      " |-- ratings_count: long (nullable = true)\n",
      " |-- series_id: string (nullable = true)\n",
      " |-- series_name: string (nullable = true)\n",
      " |-- series_position: string (nullable = true)\n",
      " |-- shelves: array (nullable = true)\n",
      " |    |-- element: struct (containsNull = true)\n",
      " |    |    |-- count: long (nullable = true)\n",
      " |    |    |-- name: string (nullable = true)\n",
      " |-- text_reviews_count: long (nullable = true)\n",
      " |-- title: string (nullable = true)\n",
      " |-- work_id: long (nullable = true)\n",
      "\n"
     ]
    }
   ],
   "source": [
    "# Print the schema of the dataframe\n",
    "df_lighter_books.printSchema()"
   ]
  },
  {
   "cell_type": "code",
   "execution_count": 80,
   "metadata": {},
   "outputs": [
    {
     "name": "stdout",
     "output_type": "stream",
     "text": [
      "root\n",
      " |-- about: string (nullable = true)\n",
      " |-- average_rating: double (nullable = true)\n",
      " |-- book_ids: array (nullable = true)\n",
      " |    |-- element: string (containsNull = true)\n",
      " |-- fans_count: long (nullable = true)\n",
      " |-- gender: string (nullable = true)\n",
      " |-- id: long (nullable = true)\n",
      " |-- image_url: string (nullable = true)\n",
      " |-- name: string (nullable = true)\n",
      " |-- ratings_count: long (nullable = true)\n",
      " |-- text_reviews_count: long (nullable = true)\n",
      " |-- work_ids: array (nullable = true)\n",
      " |    |-- element: string (containsNull = true)\n",
      " |-- works_count: long (nullable = true)\n",
      "\n"
     ]
    }
   ],
   "source": [
    "# Print the schema of the dataframe\n",
    "df_lighter_authors.printSchema()"
   ]
  },
  {
   "cell_type": "code",
   "execution_count": 81,
   "metadata": {},
   "outputs": [
    {
     "name": "stdout",
     "output_type": "stream",
     "text": [
      "+----+---------+---------------+--------------------+--------------+--------------------+-------------------+---------+-----+--------------------+----------+-------------+--------+---------+-------------------------+----------------+-----------------+--------------------+-------------+---------+-----------+---------------+---------------+------------------+--------------------+-------+\n",
      "|asin|author_id|    author_name|             authors|average_rating|         description|edition_information|   format|   id|           image_url|      isbn|       isbn13|language|num_pages|original_publication_date|publication_date|        publisher|         rating_dist|ratings_count|series_id|series_name|series_position|        shelves|text_reviews_count|               title|work_id|\n",
      "+----+---------+---------------+--------------------+--------------+--------------------+-------------------+---------+-----+--------------------+----------+-------------+--------+---------+-------------------------+----------------+-----------------+--------------------+-------------+---------+-----------+---------------+---------------+------------------+--------------------+-------+\n",
      "|    |    26929|    Evelyn Bond|                NULL|           0.0|                    |                   |         |48031|https://i.gr-asse...|0425018814|             |        |     NULL|                     1970|                |                 |5:0|4:0|3:0|2:0|1...|            0|         |           |               | [{7, to-read}]|                 0|    Thirteen O'clock|  47004|\n",
      "|    |    20246|     Anne Sebba|[{20246, Anne Seb...|           0.0|A biography of th...|                   |Hardcover|35720|https://s.gr-asse...|0531046036|9780531046036|        |       46|                  1983-09|      1983-12-01|  J. MacRae Books|5:0|4:0|3:0|2:0|1...|            0|         |           |               | [{7, to-read}]|                 0|      Margot Fonteyn|  35653|\n",
      "|    |     5310|    Lois Lenski|                NULL|           0.0|Lois Lenski and C...|                   |Paperback|42475|https://s.gr-asse...|083613396X|9780836133967|        |       16|                     1985|      1985-08-01|Herald Press (VA)|5:0|4:0|3:0|2:0|1...|            0|         |           |               | [{7, to-read}]|                 0|      Sing For Peace|  41958|\n",
      "|    |    33467|Jonathan Stroud|                NULL|           0.0|                    |                   |         | 2580|https://s.gr-asse...|0744529646|9780744529647|        |     NULL|               2000-01-03|                |                 |5:0|4:0|3:0|2:0|1...|            0|         |           |               |[{17, to-read}]|                 0|Little Spike And ...|   6546|\n",
      "|    |     6483|Harriet Ziefert|[{6483, Harriet Z...|           2.6|Eye-catching art ...|                   |Paperback|35939|https://s.gr-asse...|0689819951|9780689819957|        |       16|               1998-10-01|      1998-10-01|     Little Simon|5:0|4:0|3:3|2:2|1...|            5|         |           |               | [{2, to-read}]|                 0|The Funny Red Chr...|  35860|\n",
      "+----+---------+---------------+--------------------+--------------+--------------------+-------------------+---------+-----+--------------------+----------+-------------+--------+---------+-------------------------+----------------+-----------------+--------------------+-------------+---------+-----------+---------------+---------------+------------------+--------------------+-------+\n",
      "only showing top 5 rows\n",
      "\n"
     ]
    }
   ],
   "source": [
    "# Print the first 5 rows of the dataframe\n",
    "df_lighter_books.show(5)"
   ]
  },
  {
   "cell_type": "code",
   "execution_count": 82,
   "metadata": {},
   "outputs": [
    {
     "name": "stdout",
     "output_type": "stream",
     "text": [
      "+--------------------+--------------+--------------------+----------+------+--------+--------------------+--------------------+-------------+------------------+--------------------+-----------+\n",
      "|               about|average_rating|            book_ids|fans_count|gender|      id|           image_url|                name|ratings_count|text_reviews_count|            work_ids|works_count|\n",
      "+--------------------+--------------+--------------------+----------+------+--------+--------------------+--------------------+-------------+------------------+--------------------+-----------+\n",
      "|<i>Librarian Note...|          2.39|[37639181, 351301...|         1|      |16850813|https://s.gr-asse...|          Adil Aijaz|           18|                 2|[59226555, 564512...|          4|\n",
      "|American ambassad...|          3.06|[290618, 735481, ...|         0|  male|   84378|https://s.gr-asse...|Thomas Patrick Me...|           18|                 5|[281951, 721665, ...|          9|\n",
      "|Robert Mailer And...|          3.28|[54461, 53113691,...|         4|  male|   30765|https://s.gr-asse...|Robert Mailer And...|          472|                81|[53102, 73635129,...|          6|\n",
      "|Abdellah Hammoudi...|          3.32|[196298, 13151761...|        18|      |  114384|https://images.gr...|   Abdellah Hammoudi|          130|                16|[189855, 18329820...|          9|\n",
      "|<p>About the Auth...|          3.33|[19144553, 212808...|         1|  male|   65107|https://s.gr-asse...|    Josue Raul Conte|            3|                 1|[1909420, 4060065...|          5|\n",
      "+--------------------+--------------+--------------------+----------+------+--------+--------------------+--------------------+-------------+------------------+--------------------+-----------+\n",
      "only showing top 5 rows\n",
      "\n"
     ]
    }
   ],
   "source": [
    "# Print the first 5 rows of the dataframe\n",
    "df_lighter_authors.show(5)"
   ]
  },
  {
   "cell_type": "code",
   "execution_count": 83,
   "metadata": {},
   "outputs": [
    {
     "data": {
      "text/plain": [
       "Row(asin='', author_id=1077326, author_name='J.K. Rowling', authors=[Row(id='1077326', name='J.K. Rowling', role=''), Row(id='2927', name='Mary GrandPré', role='Illustrator')], average_rating=4.5, description='There is a door at the end of a silent corridor. And it’s haunting Harry Pottter’s dreams. Why else would he be waking in the middle of the night, screaming in terror?<br /><br />Harry has a lot on his mind for this, his fifth year at Hogwarts: a Defense Against the Dark Arts teacher with a personality like poisoned honey; a big surprise on the Gryffindor Quidditch team; and the looming terror of the Ordinary Wizarding Level exams. But all these things pale next to the growing threat of He-Who-Must-Not-Be-Named - a threat that neither the magical government nor the authorities at Hogwarts can stop.<br /><br />As the grasp of darkness tightens, Harry must discover the true depth and strength of his friends, the importance of boundless loyalty, and the shocking price of unbearable sacrifice.<br /><br />His fate depends on them all.', edition_information='US Edition', format='Paperback', id=2, image_url='https://i.gr-assets.com/images/S/compressed.photo.goodreads.com/books/1546910265l/2._SX98_.jpg', isbn='0439358078', isbn13='9780439358071', language='eng', num_pages=870, original_publication_date='2003-06-21', publication_date='2004-09', publisher='Scholastic Inc.', rating_dist='5:1674064|4:664833|3:231195|2:41699|1:16215|total:2628006', ratings_count=2628006, series_id='45175', series_name='Harry Potter', series_position='5', shelves=[Row(count=324191, name='to-read'), Row(count=52675, name='currently-reading'), Row(count=48251, name='fantasy'), Row(count=38332, name='favorites'), Row(count=15837, name='young-adult'), Row(count=13971, name='fiction'), Row(count=9798, name='harry-potter'), Row(count=8230, name='books-i-own'), Row(count=7664, name='owned'), Row(count=5790, name='ya'), Row(count=4859, name='series'), Row(count=4359, name='favourites'), Row(count=3985, name='magic'), Row(count=2955, name='childrens'), Row(count=2396, name='re-read'), Row(count=2277, name='owned-books'), Row(count=2097, name='adventure'), Row(count=1910, name='audiobook'), Row(count=1901, name='children'), Row(count=1792, name='audiobooks'), Row(count=1760, name='middle-grade'), Row(count=1578, name='childhood'), Row(count=1540, name='j-k-rowling'), Row(count=1405, name='my-books'), Row(count=1372, name='classics'), Row(count=1341, name='reread'), Row(count=1340, name='children-s'), Row(count=1298, name='sci-fi-fantasy'), Row(count=1288, name='all-time-favorites'), Row(count=1213, name='5-stars'), Row(count=1195, name='default'), Row(count=1156, name='fantasy'), Row(count=1084, name='my-library'), Row(count=1030, name='novels'), Row(count=982, name='ya-fantasy'), Row(count=964, name='children-s-books'), Row(count=936, name='favorite-books'), Row(count=932, name='kids'), Row(count=926, name='i-own'), Row(count=908, name='fantasy-sci-fi'), Row(count=859, name='favorite'), Row(count=850, name='audio'), Row(count=774, name='library'), Row(count=771, name='english'), Row(count=740, name='read-more-than-once'), Row(count=739, name='urban-fantasy'), Row(count=738, name='paranormal'), Row(count=728, name='books'), Row(count=695, name='re-reads'), Row(count=685, name='witches'), Row(count=672, name='teen'), Row(count=632, name='british'), Row(count=631, name='jk-rowling'), Row(count=588, name='bookshelf'), Row(count=587, name='ya-fiction'), Row(count=578, name='novel'), Row(count=562, name='mystery'), Row(count=557, name='my-bookshelf'), Row(count=556, name='kindle'), Row(count=550, name='childrens-books'), Row(count=541, name='read-in-2017'), Row(count=538, name='harry-potter-series'), Row(count=536, name='read-in-2020'), Row(count=534, name='on-my-shelf'), Row(count=520, name='read-in-2016'), Row(count=517, name='own-it'), Row(count=515, name='faves'), Row(count=509, name='rereads'), Row(count=502, name='my-favorites'), Row(count=501, name='supernatural'), Row(count=493, name='read-in-2019'), Row(count=488, name='read-in-2018'), Row(count=475, name='audible'), Row(count=474, name='childhood-favorites'), Row(count=466, name='audio-books'), Row(count=464, name='young-adult-fiction'), Row(count=455, name='scifi-fantasy'), Row(count=446, name='ebook'), Row(count=444, name='fantasia'), Row(count=438, name='youth'), Row(count=428, name='coming-of-age'), Row(count=422, name='5-star'), Row(count=419, name='favorite-series'), Row(count=418, name='favourite'), Row(count=413, name='all-time-favourites'), Row(count=412, name='hp'), Row(count=406, name='wizards'), Row(count=404, name='favs'), Row(count=404, name='childhood-books'), Row(count=401, name='kids-books'), Row(count=390, name='made-me-cry'), Row(count=387, name='tbr'), Row(count=387, name='kindle-unlimited'), Row(count=382, name='juvenile'), Row(count=379, name='read-in-2015'), Row(count=375, name='have'), Row(count=370, name='read-in-english'), Row(count=363, name='fantasy-scifi'), Row(count=361, name='read-2020'), Row(count=360, name='favoritos')], text_reviews_count=44716, title='Harry Potter and the Order of the Phoenix (Harry Potter, #5)', work_id=2809203)"
      ]
     },
     "execution_count": 83,
     "metadata": {},
     "output_type": "execute_result"
    }
   ],
   "source": [
    "# Print the head of dataframe\n",
    "df_lighter_books.head()"
   ]
  },
  {
   "cell_type": "code",
   "execution_count": 84,
   "metadata": {},
   "outputs": [
    {
     "data": {
      "text/plain": [
       "Row(about='Douglas Noël Adams was an English author, comic radio dramatist, and musician. He is best known as the author of the <i>\\n  <a href=\"https://www.goodreads.com/book/show/11.Hitchhiker_s_Guide_to_the_Galaxy\" title=\"Hitchhiker\\'s Guide to the Galaxy\" rel=\"nofollow noopener\">Hitchhiker\\'s Guide to the Galaxy</a>\\n</i> series. Hitchhiker\\'s began on radio, and developed into a \"trilogy\" of five books (which sold more than fifteen million copies during his lifetime) as well as a television series, a comic book series, a computer game, and a feature film that was completed after Adams\\' death. The series has also been adapted for live theatre using various scripts; the earliest such productions used material newly written by Adams. He was known to some fans as Bop Ad (after his illegible signature), or by his initials \"DNA\".<br /><br />In addition to <i>The Hitchhiker\\'s Guide to the Galaxy</i>, Douglas Adams wrote or co-wrote three stories of the science fiction television series Doctor Who and served as Script Editor during the seventeenth season. His other written works include the Dirk Gently novels, and he co-wrote two Liff books and <i>Last Chance to See</i>, itself based on a radio series. Adams also originated the idea for the computer game <i>Starship Titanic</i>, which was produced by a company that Adams co-founded, and adapted into a novel by Terry Jones. A posthumous collection of essays and other material, including an incomplete novel, was published as <i>\\n  <a href=\"https://www.goodreads.com/book/show/359.The_Salmon_of_Doubt\" title=\"The Salmon of Doubt\" rel=\"nofollow noopener\">The Salmon of Doubt</a>\\n</i> in 2002.<br /><br />His fans and friends also knew Adams as an environmental activist and a lover of fast cars, cameras, the Macintosh computer, and other \"techno gizmos\". <br /><br />Toward the end of his life he was a sought-after lecturer on topics including technology and the environment.', average_rating=4.19, book_ids=['386162', '13', '8695', '8694', '6091075', '365', '569429', '357', '841628', '359', '15847717', '8696', '372299', '286041', '2322', '64123', '64119', '140422', '613099', '24329428', '6125323', '834762', '17', '1473012', '40035657', '8710', '959558', '13400961', '11360254', '33340', '8700', '40098160', '2757814', '556764', '36580924', '1087665', '36563593', '29413454', '1470843', '25196594', '18693437', '1087667', '25673887', '49124942', '52321401', '50247917', '25282768', '53349920', '50183174', '17837864', '41087292', '44424120', '15784372', '42926670', '45861752', '50516841', '55508335', '8414378', '53620925', '49798136', '35213093', '26063410', '23703526', '531808', '841643', '36556703', '23703562', '42433453', '31324024', '7018423', '27473851', '2675665', '31324026', '52028692', '49216301', '4325988', '8414379', '55218693', '54543457', '56278383', '40047752', '51268098', '55366903', '56647909', '57116478', '57005209', '56647910', '56477373', '56757155', '56250959', '31549843', '27473852', '10083696', '23703536', '1981057', '140423', '31324025', '23703540', '1483382', '1857937', '42858621', '36258878', '50241753', '52567301', '56494504', '37648110'], fans_count=19826, gender='male', id=4, image_url='https://images.gr-assets.com/authors/1591374335p5/4.jpg', name='Douglas Adams', ratings_count=2862064, text_reviews_count=62681, work_ids=['3078186', '135328', '1877624', '74123', '3078120', '1042123', '2842984', '1096', '13319085', '809325', '21592731', '525730', '42028477', '2411150', '1120220', '12932638', '17046408', '3373660', '21398624', '19252167', '21901728', '21901733', '69899216', '17243229', '62023732', '18207351', '6164074', '18632703', '16290317', '6247866', '18965746', '62152547', '6752452', '543954', '58325286', '1074445', '58301594', '49669987', '41794198', '44907496', '83585581', '1074447', '76149487', '74577096', '77506039', '75157530', '45009115', '82166255', '71522058', '24960665', '64196390', '68979697', '41360000', '66707321', '70674683', '75492555', '86557069', '13346164', '83944374', '74921747', '49782515', '2070480', '67379746', '6164033', '43676732', '77020392', '43312804', '55074514', '51995759', '7264648', '47518641', '67382803', '51995761', '86117329', '74672304', '18207213', '13276248', '86091882', '85103895', '87677810', '86751817', '75989274', '86348313', '88518420', '89386842', '89192468', '88518421', '88118268', '88704798', '87627162', '52229115', '47518642', '14980533', '43312782', '60857511', '67381566', '51995760', '43312786', '1474531', '1858558', '66634320', '57910340', '75145873', '78214735', '88160958', '59238921'], works_count=106)"
      ]
     },
     "execution_count": 84,
     "metadata": {},
     "output_type": "execute_result"
    }
   ],
   "source": [
    "# Print the head of dataframe\n",
    "df_lighter_authors.head()"
   ]
  },
  {
   "cell_type": "code",
   "execution_count": 85,
   "metadata": {},
   "outputs": [
    {
     "name": "stdout",
     "output_type": "stream",
     "text": [
      "+-------+--------+-----------------+-------------------+------------------+--------------------+--------------------+------------------+--------------------+--------------------+--------+--------------------+--------+------------------+-------------------------+------------------+----------------------+--------------------+------------------+----------------+-----------------------------------+-----------------+------------------+-------+--------------------+\n",
      "|summary|    asin|        author_id|        author_name|    average_rating|         description| edition_information|            format|                  id|           image_url|    isbn|              isbn13|language|         num_pages|original_publication_date|  publication_date|             publisher|         rating_dist|     ratings_count|       series_id|                        series_name|  series_position|text_reviews_count|  title|             work_id|\n",
      "+-------+--------+-----------------+-------------------+------------------+--------------------+--------------------+------------------+--------------------+--------------------+--------+--------------------+--------+------------------+-------------------------+------------------+----------------------+--------------------+------------------+----------------+-----------------------------------+-----------------+------------------+-------+--------------------+\n",
      "|  count| 7027431|          7027431|            7027431|           7027431|             7027431|             7027431|           7027431|             7027431|             7027431| 7027431|             7027431| 7027431|           3955596|                  7027431|           7027431|               7027431|             7027431|           7027431|         7027431|                            7027431|          7027431|           7027431|7027431|             7027431|\n",
      "|   mean|Infinity|1977792.752914116|               19.0|3.3061879156123712|8.043967999713328E11|4.242511332418796...|189.16666666666666|1.3267196411323996E7|                NULL|Infinity| 9.55491435070208E12|    NULL|3049.8654913191335|       1908.9786988621665|1993.1070724310548|              Infinity|                NULL|19458.609666035853|99101.0692560757|                           Infinity|9.504727572188981| 641.7257807298286|    NaN|1.3985330931168588E7|\n",
      "| stddev|     NaN|3210660.488749222|                0.0|1.4357340879502614|2.711230852241999E12|1.802437181368138E13|187.87380516364345|   7637921.804473941|                NULL|     NaN|1.250444134173930...|    NULL|2327716.9091035784|        304.3699345679779|347.81366636795553|                   NaN|                NULL| 160900.7621571502|64722.7030891483|                                NaN|795.3536595467177| 4169.806199983708|    NaN|1.5356372000695122E7|\n",
      "|    min|        |                4|\"Big\" John McCarthy|               0.0|                    |                    |                  |                   2|https://i.gr-asse...|        |                    |        |                 0|                         |                  |                      |5:-1|4:1|3:1|2:0|...|                 0|                |                                   |                 |                 0|       |                  62|\n",
      "|    max|   حورات|         21248016|         Ｔｏｓｈｌ|               5.0|����������Theodor...|                  １|                －|            25521017|https://s.gr-asse...|   ۹۶۴۳۱|               ‏‫‭‭9|     zun|        2147483647|               9999-01-01|        9999-01-01|ＰＨＰ研究所 (PHP新書)|5:9|4:9|3:9|2:8|1...|           7400639|           99999|ＹＡＳＨＡ―夜叉―（小学館文庫全6巻）|               １|            174524|��قديشة|            89721607|\n",
      "+-------+--------+-----------------+-------------------+------------------+--------------------+--------------------+------------------+--------------------+--------------------+--------+--------------------+--------+------------------+-------------------------+------------------+----------------------+--------------------+------------------+----------------+-----------------------------------+-----------------+------------------+-------+--------------------+\n",
      "\n"
     ]
    }
   ],
   "source": [
    "# summary statistics of the dataframe\n",
    "df_lighter_books.describe().show()"
   ]
  },
  {
   "cell_type": "code",
   "execution_count": 86,
   "metadata": {},
   "outputs": [
    {
     "name": "stdout",
     "output_type": "stream",
     "text": [
      "+-------+--------------------+------------------+------------------+---------+------------------+--------------------+-------------------+-----------------+------------------+------------------+\n",
      "|summary|               about|    average_rating|        fans_count|   gender|                id|           image_url|               name|    ratings_count|text_reviews_count|       works_count|\n",
      "+-------+--------------------+------------------+------------------+---------+------------------+--------------------+-------------------+-----------------+------------------+------------------+\n",
      "|  count|              351767|            351767|            351767|   351767|            351767|              351767|             351767|           351767|            351767|            351767|\n",
      "|   mean|   1752.326923076923|3.6511943132812488|111.61573143586521|     NULL|7751861.1911975825|                NULL|           Infinity|4770.586308550831| 330.9932426862099|25.937137366495435|\n",
      "| stddev|  437.46075324934486|1.2114816423862007|2661.0181388659653|     NULL| 6578409.001586656|                NULL|                NaN|97693.95378788895|3857.5391911629226|3066.0828516236847|\n",
      "|    min|\\t\\t\\t\\t\\t\\t\\t\\t(...|             -31.0|               -33|         |                 4|https://images.gr...|\"Big\" John McCarthy|              -41|                 0|                 0|\n",
      "|    max|🥀 Sign up for Ka...|               5.0|            766035|wizardess|          21248016|https://s.gr-asse...|         Ｔｏｓｈｌ|         27003752|            608956|           1775176|\n",
      "+-------+--------------------+------------------+------------------+---------+------------------+--------------------+-------------------+-----------------+------------------+------------------+\n",
      "\n"
     ]
    }
   ],
   "source": [
    "# summary statistics of the dataframe\n",
    "df_lighter_authors.describe().show()"
   ]
  },
  {
   "cell_type": "code",
   "execution_count": 87,
   "metadata": {},
   "outputs": [
    {
     "data": {
      "text/plain": [
       "['asin',\n",
       " 'author_id',\n",
       " 'author_name',\n",
       " 'authors',\n",
       " 'average_rating',\n",
       " 'description',\n",
       " 'edition_information',\n",
       " 'format',\n",
       " 'id',\n",
       " 'image_url',\n",
       " 'isbn',\n",
       " 'isbn13',\n",
       " 'language',\n",
       " 'num_pages',\n",
       " 'original_publication_date',\n",
       " 'publication_date',\n",
       " 'publisher',\n",
       " 'rating_dist',\n",
       " 'ratings_count',\n",
       " 'series_id',\n",
       " 'series_name',\n",
       " 'series_position',\n",
       " 'shelves',\n",
       " 'text_reviews_count',\n",
       " 'title',\n",
       " 'work_id']"
      ]
     },
     "execution_count": 87,
     "metadata": {},
     "output_type": "execute_result"
    }
   ],
   "source": [
    "# columns of the dataframe\n",
    "df_lighter_books.columns"
   ]
  },
  {
   "cell_type": "code",
   "execution_count": 88,
   "metadata": {},
   "outputs": [
    {
     "data": {
      "text/plain": [
       "['about',\n",
       " 'average_rating',\n",
       " 'book_ids',\n",
       " 'fans_count',\n",
       " 'gender',\n",
       " 'id',\n",
       " 'image_url',\n",
       " 'name',\n",
       " 'ratings_count',\n",
       " 'text_reviews_count',\n",
       " 'work_ids',\n",
       " 'works_count']"
      ]
     },
     "execution_count": 88,
     "metadata": {},
     "output_type": "execute_result"
    }
   ],
   "source": [
    "# columns of the dataframe\n",
    "df_lighter_authors.columns"
   ]
  },
  {
   "cell_type": "code",
   "execution_count": 89,
   "metadata": {},
   "outputs": [
    {
     "data": {
      "text/plain": [
       "7027431"
      ]
     },
     "execution_count": 89,
     "metadata": {},
     "output_type": "execute_result"
    }
   ],
   "source": [
    "# Count the number of rows in the dataframe\n",
    "df_lighter_books.count()"
   ]
  },
  {
   "cell_type": "code",
   "execution_count": 90,
   "metadata": {},
   "outputs": [
    {
     "data": {
      "text/plain": [
       "351767"
      ]
     },
     "execution_count": 90,
     "metadata": {},
     "output_type": "execute_result"
    }
   ],
   "source": [
    "# Count the number of rows in the dataframe\n",
    "df_lighter_authors.count()"
   ]
  },
  {
   "cell_type": "code",
   "execution_count": 91,
   "metadata": {},
   "outputs": [
    {
     "data": {
      "text/plain": [
       "7027431"
      ]
     },
     "execution_count": 91,
     "metadata": {},
     "output_type": "execute_result"
    }
   ],
   "source": [
    "# Count the number of distinct rows in the dataframe\n",
    "df_lighter_books.distinct().count()"
   ]
  },
  {
   "cell_type": "code",
   "execution_count": 92,
   "metadata": {},
   "outputs": [
    {
     "data": {
      "text/plain": [
       "351767"
      ]
     },
     "execution_count": 92,
     "metadata": {},
     "output_type": "execute_result"
    }
   ],
   "source": [
    "# Count the number of distinct rows in the dataframe\n",
    "df_lighter_authors.distinct().count()"
   ]
  },
  {
   "cell_type": "markdown",
   "metadata": {},
   "source": [
    "# [RQ2]"
   ]
  },
  {
   "cell_type": "markdown",
   "metadata": {},
   "source": [
    "# [RQ3]"
   ]
  },
  {
   "cell_type": "code",
   "execution_count": 5,
   "metadata": {},
   "outputs": [
    {
     "name": "stdout",
     "output_type": "stream",
     "text": [
      "root\n",
      " |-- asin: string (nullable = true)\n",
      " |-- author_id: long (nullable = true)\n",
      " |-- author_name: string (nullable = true)\n",
      " |-- authors: array (nullable = true)\n",
      " |    |-- element: struct (containsNull = true)\n",
      " |    |    |-- id: string (nullable = true)\n",
      " |    |    |-- name: string (nullable = true)\n",
      " |    |    |-- role: string (nullable = true)\n",
      " |-- average_rating: double (nullable = true)\n",
      " |-- description: string (nullable = true)\n",
      " |-- edition_information: string (nullable = true)\n",
      " |-- format: string (nullable = true)\n",
      " |-- id: long (nullable = true)\n",
      " |-- image_url: string (nullable = true)\n",
      " |-- isbn: string (nullable = true)\n",
      " |-- isbn13: string (nullable = true)\n",
      " |-- language: string (nullable = true)\n",
      " |-- num_pages: long (nullable = true)\n",
      " |-- original_publication_date: string (nullable = true)\n",
      " |-- publication_date: string (nullable = true)\n",
      " |-- publisher: string (nullable = true)\n",
      " |-- rating_dist: string (nullable = true)\n",
      " |-- ratings_count: long (nullable = true)\n",
      " |-- series_id: string (nullable = true)\n",
      " |-- series_name: string (nullable = true)\n",
      " |-- series_position: string (nullable = true)\n",
      " |-- shelves: array (nullable = true)\n",
      " |    |-- element: struct (containsNull = true)\n",
      " |    |    |-- count: long (nullable = true)\n",
      " |    |    |-- name: string (nullable = true)\n",
      " |-- text_reviews_count: long (nullable = true)\n",
      " |-- title: string (nullable = true)\n",
      " |-- work_id: long (nullable = true)\n",
      "\n"
     ]
    }
   ],
   "source": [
    "# Print the schema of the dataframe\n",
    "df_lighter_books.printSchema()"
   ]
  },
  {
   "cell_type": "markdown",
   "metadata": {},
   "source": [
    "## Data Cleaning/Preprocessing"
   ]
  },
  {
   "cell_type": "code",
   "execution_count": 6,
   "metadata": {},
   "outputs": [],
   "source": [
    "df_lighter_books = df_lighter_books.filter(trim(col('original_publication_date')) != '') # removes rows with empty original_publication_date\n",
    "df_lighter_books = df_lighter_books.filter(trim(col('num_pages')) != '') # removes rows with empty num_pages\n",
    "df_lighter_books = df_lighter_books.filter(trim(col('title')) != '') # removes rows with empty title"
   ]
  },
  {
   "cell_type": "code",
   "execution_count": 7,
   "metadata": {},
   "outputs": [],
   "source": [
    "df_lighter_books = df_lighter_books.dropna(subset=['original_publication_date', 'num_pages','title']) # removes rows with null values in original_publication_date, num_pages, and title"
   ]
  },
  {
   "cell_type": "code",
   "execution_count": 8,
   "metadata": {},
   "outputs": [],
   "source": [
    "# Define the regular expression for date\n",
    "date_regex = r\"^(19\\d\\d|200[0-2]|20(0[3-9]|1\\d|2[0-3]))-(0[1-9]|1[012])-(0[1-9]|1[0-9]|2[0-9]|3[01])$\"\n",
    "\n",
    "# Validate the original_publication_date column\n",
    "df_lighter_books = df_lighter_books.withColumn(\n",
    "    \"is_valid_date\",\n",
    "    F.when(F.col(\"original_publication_date\").rlike(date_regex), True).otherwise(False)\n",
    ")\n",
    "\n",
    "# Filter the DataFrame to keep only rows with valid dates\n",
    "df_lighter_books = df_lighter_books.filter(F.col(\"is_valid_date\") == True)\n",
    "\n",
    "# Drop the is_valid_date column\n",
    "df_lighter_books = df_lighter_books.drop(\"is_valid_date\")"
   ]
  },
  {
   "cell_type": "code",
   "execution_count": 9,
   "metadata": {},
   "outputs": [],
   "source": [
    "# Attempt to convert original_publication_date to a date\n",
    "df_lighter_books = df_lighter_books.withColumn(\"converted_date\", to_date(col(\"original_publication_date\"), 'yyyy-MM-dd'))\n",
    "\n",
    "# Filter out rows where the conversion resulted in null\n",
    "df_lighter_books = df_lighter_books.filter(col(\"converted_date\").isNotNull())\n",
    "\n",
    "# Drop the intermediate converted_date column\n",
    "df_lighter_books = df_lighter_books.drop(\"converted_date\")"
   ]
  },
  {
   "cell_type": "code",
   "execution_count": 10,
   "metadata": {},
   "outputs": [],
   "source": [
    "df_lighter_books = df_lighter_books.withColumn(\"title\", trim(df_lighter_books.title))  # removes leading and trailing white spaces"
   ]
  },
  {
   "cell_type": "code",
   "execution_count": 11,
   "metadata": {},
   "outputs": [],
   "source": [
    "# Filter for valid num_pages\n",
    "df_lighter_books = df_lighter_books.filter(col('num_pages') > 0)\n",
    "\n",
    "# Select the relevant columns\n",
    "df_lighter_books = df_lighter_books.select('original_publication_date', 'num_pages', 'title')"
   ]
  },
  {
   "cell_type": "markdown",
   "metadata": {},
   "source": [
    "## EDA"
   ]
  },
  {
   "cell_type": "code",
   "execution_count": 12,
   "metadata": {},
   "outputs": [
    {
     "data": {
      "text/plain": [
       "2390718"
      ]
     },
     "execution_count": 12,
     "metadata": {},
     "output_type": "execute_result"
    }
   ],
   "source": [
    "df_lighter_books.count() # count the number of rows"
   ]
  },
  {
   "cell_type": "code",
   "execution_count": 13,
   "metadata": {},
   "outputs": [
    {
     "name": "stdout",
     "output_type": "stream",
     "text": [
      "+-------------------------+---------+--------------------+\n",
      "|original_publication_date|num_pages|               title|\n",
      "+-------------------------+---------+--------------------+\n",
      "|               2003-06-21|      870|Harry Potter and ...|\n",
      "|               1997-06-26|      309|Harry Potter and ...|\n",
      "|               1998-07-02|      352|Harry Potter and ...|\n",
      "|               1999-07-08|      435|Harry Potter and ...|\n",
      "|               2000-07-08|      734|Harry Potter and ...|\n",
      "+-------------------------+---------+--------------------+\n",
      "only showing top 5 rows\n",
      "\n"
     ]
    }
   ],
   "source": [
    "df_lighter_books.show(5) # show the first 5 rows"
   ]
  },
  {
   "cell_type": "code",
   "execution_count": 15,
   "metadata": {},
   "outputs": [],
   "source": [
    "df_lighter_books = df_lighter_books.withColumn('year', year('original_publication_date')) # add a year column\n",
    "df_lighter_books = df_lighter_books.withColumn('month', month('original_publication_date')) # add a month column"
   ]
  },
  {
   "cell_type": "code",
   "execution_count": 23,
   "metadata": {},
   "outputs": [
    {
     "name": "stdout",
     "output_type": "stream",
     "text": [
      "+-------------------------+---------+--------------------+----+-----+\n",
      "|original_publication_date|num_pages|               title|year|month|\n",
      "+-------------------------+---------+--------------------+----+-----+\n",
      "|               2003-06-21|      870|Harry Potter and ...|2003|    6|\n",
      "|               1997-06-26|      309|Harry Potter and ...|1997|    6|\n",
      "|               1998-07-02|      352|Harry Potter and ...|1998|    7|\n",
      "|               1999-07-08|      435|Harry Potter and ...|1999|    7|\n",
      "|               2000-07-08|      734|Harry Potter and ...|2000|    7|\n",
      "+-------------------------+---------+--------------------+----+-----+\n",
      "only showing top 5 rows\n",
      "\n"
     ]
    }
   ],
   "source": [
    "df_lighter_books.show(5) # show the first 5 rows"
   ]
  },
  {
   "cell_type": "code",
   "execution_count": 59,
   "metadata": {},
   "outputs": [
    {
     "data": {
      "text/plain": [
       "124"
      ]
     },
     "execution_count": 59,
     "metadata": {},
     "output_type": "execute_result"
    }
   ],
   "source": [
    "df_lighter_books.select(\"year\").distinct().count() # count the number of distinct years"
   ]
  },
  {
   "cell_type": "code",
   "execution_count": 60,
   "metadata": {},
   "outputs": [
    {
     "name": "stdout",
     "output_type": "stream",
     "text": [
      "2023\n"
     ]
    }
   ],
   "source": [
    "max_year = df_lighter_books.agg(max(\"year\")).first()[0] # find the maximum year\n",
    "print(max_year)"
   ]
  },
  {
   "cell_type": "code",
   "execution_count": 61,
   "metadata": {},
   "outputs": [
    {
     "name": "stdout",
     "output_type": "stream",
     "text": [
      "1900\n"
     ]
    }
   ],
   "source": [
    "min_year = df_lighter_books.agg(min(\"year\")).first()[0] # find the minimum year\n",
    "print(min_year)"
   ]
  },
  {
   "cell_type": "markdown",
   "metadata": {},
   "source": [
    "### yearly_stats function to get yearly stats for each year in the df_lighter_books dataframe"
   ]
  },
  {
   "cell_type": "code",
   "execution_count": 39,
   "metadata": {},
   "outputs": [],
   "source": [
    "def yearly_stats(year):\n",
    "    # Filter books for given year\n",
    "    df_year = df_lighter_books.filter(df_lighter_books['year'] == year)\n",
    "\n",
    "    # Number of books published\n",
    "    num_books = df_year.count()\n",
    "\n",
    "    # Total number of pages\n",
    "    total_pages = df_year.agg(F.sum('num_pages')).first()[0]\n",
    "\n",
    "    # Most prolific month\n",
    "    prolific_month = df_year.groupBy('month').count().orderBy(F.desc('count')).first()[0]\n",
    "\n",
    "    # Longest book\n",
    "    longest_book = df_year.orderBy(F.desc('num_pages')).first()['title']\n",
    "\n",
    "    return (year, num_books, total_pages, prolific_month, longest_book)"
   ]
  },
  {
   "cell_type": "code",
   "execution_count": 41,
   "metadata": {},
   "outputs": [],
   "source": [
    "# Get list of unique years\n",
    "\n",
    "years = df_lighter_books.select('year').toPandas()['year'].unique().tolist()"
   ]
  },
  {
   "cell_type": "code",
   "execution_count": 42,
   "metadata": {},
   "outputs": [],
   "source": [
    "years.sort() # sort the list (not necessary)"
   ]
  },
  {
   "cell_type": "code",
   "execution_count": 50,
   "metadata": {},
   "outputs": [],
   "source": [
    "data_first_10 = [yearly_stats(year) for year in years[:10]] # get the yearly stats for the first 10 years"
   ]
  },
  {
   "cell_type": "code",
   "execution_count": 51,
   "metadata": {},
   "outputs": [],
   "source": [
    "data_last_10 = [yearly_stats(year) for year in years[-10:]] # get the yearly stats for the last 10 years"
   ]
  },
  {
   "cell_type": "code",
   "execution_count": 52,
   "metadata": {},
   "outputs": [
    {
     "data": {
      "text/plain": [
       "[(1900, 1747, 509501, 1, 'Complete Works of Joseph Conrad'),\n",
       " (1901, 802, 351965, 1, 'NKJV Study Bible'),\n",
       " (1902, 882, 696460, 1, 'Holy Bible: NLT - New Living Translation'),\n",
       " (1903, 733, 183484, 1, 'The Life of William Ewart Gladstone - Vol. I'),\n",
       " (1904, 628, 162193, 1, 'The Life Recovery Bible NLT'),\n",
       " (1905, 1119, 282252, 1, 'Dictionary of the Bible'),\n",
       " (1906, 518, 145632, 1, \"Moody's Magazine Vol 1 - 20\"),\n",
       " (1907, 558, 137774, 1, 'Arsenio Lupin, Caballero Ladrón'),\n",
       " (1908, 430, 97105, 1, 'Anne of Green Gables--The Complete Collection'),\n",
       " (1909, 1041, 298330, 1, 'The Works of Rudyard Kipling, 10 Vols')]"
      ]
     },
     "execution_count": 52,
     "metadata": {},
     "output_type": "execute_result"
    }
   ],
   "source": [
    "data_first_10 # print the yearly stats for the first 10 years"
   ]
  },
  {
   "cell_type": "code",
   "execution_count": 53,
   "metadata": {},
   "outputs": [
    {
     "data": {
      "text/plain": [
       "[(2014,\n",
       "  177582,\n",
       "  42919290,\n",
       "  1,\n",
       "  'A Most Unlikely Countess (To Love a Wildcat, #2)'),\n",
       " (2015,\n",
       "  53821,\n",
       "  14013926,\n",
       "  1,\n",
       "  'Revel for the American Nation: A History of the United States, Combined Volume -- Access Card'),\n",
       " (2016, 2299, 708061, 1, 'Homestuck'),\n",
       " (2017, 491, 150653, 2, 'The Starfarers Quartet'),\n",
       " (2018, 192, 72498, 1, '地海六部曲'),\n",
       " (2019, 118, 34813, 8, 'Nouvelles Les'),\n",
       " (2020, 83, 27477, 1, 'The Complete Ripley Novels (Ripley, #1-5)'),\n",
       " (2021,\n",
       "  17,\n",
       "  8088,\n",
       "  8,\n",
       "  \"The Navigator's Children (The Last King of Osten Ard, #3)\"),\n",
       " (2022,\n",
       "  4,\n",
       "  1280,\n",
       "  10,\n",
       "  'Highland Ever After (The Montgomerys and Armstrongs, #3)'),\n",
       " (2023, 1, 463, 9, 'Apocalypse')]"
      ]
     },
     "execution_count": 53,
     "metadata": {},
     "output_type": "execute_result"
    }
   ],
   "source": [
    "data_last_10   # print the yearly stats for the last 10 years"
   ]
  },
  {
   "cell_type": "code",
   "execution_count": 56,
   "metadata": {},
   "outputs": [],
   "source": [
    "data_first_10 = pd.DataFrame(data_first_10, columns =['year', 'num_books', 'total_pages', 'prolific_month', 'longest_book']) # convert the list to a pandas dataframe"
   ]
  },
  {
   "cell_type": "code",
   "execution_count": 57,
   "metadata": {},
   "outputs": [
    {
     "data": {
      "text/html": [
       "<div>\n",
       "<style scoped>\n",
       "    .dataframe tbody tr th:only-of-type {\n",
       "        vertical-align: middle;\n",
       "    }\n",
       "\n",
       "    .dataframe tbody tr th {\n",
       "        vertical-align: top;\n",
       "    }\n",
       "\n",
       "    .dataframe thead th {\n",
       "        text-align: right;\n",
       "    }\n",
       "</style>\n",
       "<table border=\"1\" class=\"dataframe\">\n",
       "  <thead>\n",
       "    <tr style=\"text-align: right;\">\n",
       "      <th></th>\n",
       "      <th>year</th>\n",
       "      <th>num_books</th>\n",
       "      <th>total_pages</th>\n",
       "      <th>prolific_month</th>\n",
       "      <th>longest_book</th>\n",
       "    </tr>\n",
       "  </thead>\n",
       "  <tbody>\n",
       "    <tr>\n",
       "      <th>0</th>\n",
       "      <td>1900</td>\n",
       "      <td>1747</td>\n",
       "      <td>509501</td>\n",
       "      <td>1</td>\n",
       "      <td>Complete Works of Joseph Conrad</td>\n",
       "    </tr>\n",
       "    <tr>\n",
       "      <th>1</th>\n",
       "      <td>1901</td>\n",
       "      <td>802</td>\n",
       "      <td>351965</td>\n",
       "      <td>1</td>\n",
       "      <td>NKJV Study Bible</td>\n",
       "    </tr>\n",
       "    <tr>\n",
       "      <th>2</th>\n",
       "      <td>1902</td>\n",
       "      <td>882</td>\n",
       "      <td>696460</td>\n",
       "      <td>1</td>\n",
       "      <td>Holy Bible: NLT - New Living Translation</td>\n",
       "    </tr>\n",
       "    <tr>\n",
       "      <th>3</th>\n",
       "      <td>1903</td>\n",
       "      <td>733</td>\n",
       "      <td>183484</td>\n",
       "      <td>1</td>\n",
       "      <td>The Life of William Ewart Gladstone - Vol. I</td>\n",
       "    </tr>\n",
       "    <tr>\n",
       "      <th>4</th>\n",
       "      <td>1904</td>\n",
       "      <td>628</td>\n",
       "      <td>162193</td>\n",
       "      <td>1</td>\n",
       "      <td>The Life Recovery Bible NLT</td>\n",
       "    </tr>\n",
       "    <tr>\n",
       "      <th>5</th>\n",
       "      <td>1905</td>\n",
       "      <td>1119</td>\n",
       "      <td>282252</td>\n",
       "      <td>1</td>\n",
       "      <td>Dictionary of the Bible</td>\n",
       "    </tr>\n",
       "    <tr>\n",
       "      <th>6</th>\n",
       "      <td>1906</td>\n",
       "      <td>518</td>\n",
       "      <td>145632</td>\n",
       "      <td>1</td>\n",
       "      <td>Moody's Magazine Vol 1 - 20</td>\n",
       "    </tr>\n",
       "    <tr>\n",
       "      <th>7</th>\n",
       "      <td>1907</td>\n",
       "      <td>558</td>\n",
       "      <td>137774</td>\n",
       "      <td>1</td>\n",
       "      <td>Arsenio Lupin, Caballero Ladrón</td>\n",
       "    </tr>\n",
       "    <tr>\n",
       "      <th>8</th>\n",
       "      <td>1908</td>\n",
       "      <td>430</td>\n",
       "      <td>97105</td>\n",
       "      <td>1</td>\n",
       "      <td>Anne of Green Gables--The Complete Collection</td>\n",
       "    </tr>\n",
       "    <tr>\n",
       "      <th>9</th>\n",
       "      <td>1909</td>\n",
       "      <td>1041</td>\n",
       "      <td>298330</td>\n",
       "      <td>1</td>\n",
       "      <td>The Works of Rudyard Kipling, 10 Vols</td>\n",
       "    </tr>\n",
       "  </tbody>\n",
       "</table>\n",
       "</div>"
      ],
      "text/plain": [
       "   year  num_books  total_pages  prolific_month  \\\n",
       "0  1900       1747       509501               1   \n",
       "1  1901        802       351965               1   \n",
       "2  1902        882       696460               1   \n",
       "3  1903        733       183484               1   \n",
       "4  1904        628       162193               1   \n",
       "5  1905       1119       282252               1   \n",
       "6  1906        518       145632               1   \n",
       "7  1907        558       137774               1   \n",
       "8  1908        430        97105               1   \n",
       "9  1909       1041       298330               1   \n",
       "\n",
       "                                    longest_book  \n",
       "0                Complete Works of Joseph Conrad  \n",
       "1                               NKJV Study Bible  \n",
       "2       Holy Bible: NLT - New Living Translation  \n",
       "3   The Life of William Ewart Gladstone - Vol. I  \n",
       "4                    The Life Recovery Bible NLT  \n",
       "5                        Dictionary of the Bible  \n",
       "6                    Moody's Magazine Vol 1 - 20  \n",
       "7                Arsenio Lupin, Caballero Ladrón  \n",
       "8  Anne of Green Gables--The Complete Collection  \n",
       "9          The Works of Rudyard Kipling, 10 Vols  "
      ]
     },
     "execution_count": 57,
     "metadata": {},
     "output_type": "execute_result"
    }
   ],
   "source": [
    "data_first_10   # print the dataframe"
   ]
  },
  {
   "cell_type": "code",
   "execution_count": 54,
   "metadata": {},
   "outputs": [],
   "source": [
    "data_last_10 = pd.DataFrame(data_last_10, columns =['year', 'num_books', 'total_pages', 'prolific_month', 'longest_book']) # convert the list to a pandas dataframe"
   ]
  },
  {
   "cell_type": "code",
   "execution_count": 55,
   "metadata": {},
   "outputs": [
    {
     "data": {
      "text/html": [
       "<div>\n",
       "<style scoped>\n",
       "    .dataframe tbody tr th:only-of-type {\n",
       "        vertical-align: middle;\n",
       "    }\n",
       "\n",
       "    .dataframe tbody tr th {\n",
       "        vertical-align: top;\n",
       "    }\n",
       "\n",
       "    .dataframe thead th {\n",
       "        text-align: right;\n",
       "    }\n",
       "</style>\n",
       "<table border=\"1\" class=\"dataframe\">\n",
       "  <thead>\n",
       "    <tr style=\"text-align: right;\">\n",
       "      <th></th>\n",
       "      <th>year</th>\n",
       "      <th>num_books</th>\n",
       "      <th>total_pages</th>\n",
       "      <th>prolific_month</th>\n",
       "      <th>longest_book</th>\n",
       "    </tr>\n",
       "  </thead>\n",
       "  <tbody>\n",
       "    <tr>\n",
       "      <th>0</th>\n",
       "      <td>2014</td>\n",
       "      <td>177582</td>\n",
       "      <td>42919290</td>\n",
       "      <td>1</td>\n",
       "      <td>A Most Unlikely Countess (To Love a Wildcat, #2)</td>\n",
       "    </tr>\n",
       "    <tr>\n",
       "      <th>1</th>\n",
       "      <td>2015</td>\n",
       "      <td>53821</td>\n",
       "      <td>14013926</td>\n",
       "      <td>1</td>\n",
       "      <td>Revel for the American Nation: A History of th...</td>\n",
       "    </tr>\n",
       "    <tr>\n",
       "      <th>2</th>\n",
       "      <td>2016</td>\n",
       "      <td>2299</td>\n",
       "      <td>708061</td>\n",
       "      <td>1</td>\n",
       "      <td>Homestuck</td>\n",
       "    </tr>\n",
       "    <tr>\n",
       "      <th>3</th>\n",
       "      <td>2017</td>\n",
       "      <td>491</td>\n",
       "      <td>150653</td>\n",
       "      <td>2</td>\n",
       "      <td>The Starfarers Quartet</td>\n",
       "    </tr>\n",
       "    <tr>\n",
       "      <th>4</th>\n",
       "      <td>2018</td>\n",
       "      <td>192</td>\n",
       "      <td>72498</td>\n",
       "      <td>1</td>\n",
       "      <td>地海六部曲</td>\n",
       "    </tr>\n",
       "    <tr>\n",
       "      <th>5</th>\n",
       "      <td>2019</td>\n",
       "      <td>118</td>\n",
       "      <td>34813</td>\n",
       "      <td>8</td>\n",
       "      <td>Nouvelles Les</td>\n",
       "    </tr>\n",
       "    <tr>\n",
       "      <th>6</th>\n",
       "      <td>2020</td>\n",
       "      <td>83</td>\n",
       "      <td>27477</td>\n",
       "      <td>1</td>\n",
       "      <td>The Complete Ripley Novels (Ripley, #1-5)</td>\n",
       "    </tr>\n",
       "    <tr>\n",
       "      <th>7</th>\n",
       "      <td>2021</td>\n",
       "      <td>17</td>\n",
       "      <td>8088</td>\n",
       "      <td>8</td>\n",
       "      <td>The Navigator's Children (The Last King of Ost...</td>\n",
       "    </tr>\n",
       "    <tr>\n",
       "      <th>8</th>\n",
       "      <td>2022</td>\n",
       "      <td>4</td>\n",
       "      <td>1280</td>\n",
       "      <td>10</td>\n",
       "      <td>Highland Ever After (The Montgomerys and Armst...</td>\n",
       "    </tr>\n",
       "    <tr>\n",
       "      <th>9</th>\n",
       "      <td>2023</td>\n",
       "      <td>1</td>\n",
       "      <td>463</td>\n",
       "      <td>9</td>\n",
       "      <td>Apocalypse</td>\n",
       "    </tr>\n",
       "  </tbody>\n",
       "</table>\n",
       "</div>"
      ],
      "text/plain": [
       "   year  num_books  total_pages  prolific_month  \\\n",
       "0  2014     177582     42919290               1   \n",
       "1  2015      53821     14013926               1   \n",
       "2  2016       2299       708061               1   \n",
       "3  2017        491       150653               2   \n",
       "4  2018        192        72498               1   \n",
       "5  2019        118        34813               8   \n",
       "6  2020         83        27477               1   \n",
       "7  2021         17         8088               8   \n",
       "8  2022          4         1280              10   \n",
       "9  2023          1          463               9   \n",
       "\n",
       "                                        longest_book  \n",
       "0   A Most Unlikely Countess (To Love a Wildcat, #2)  \n",
       "1  Revel for the American Nation: A History of th...  \n",
       "2                                          Homestuck  \n",
       "3                             The Starfarers Quartet  \n",
       "4                                              地海六部曲  \n",
       "5                                      Nouvelles Les  \n",
       "6          The Complete Ripley Novels (Ripley, #1-5)  \n",
       "7  The Navigator's Children (The Last King of Ost...  \n",
       "8  Highland Ever After (The Montgomerys and Armst...  \n",
       "9                                         Apocalypse  "
      ]
     },
     "execution_count": 55,
     "metadata": {},
     "output_type": "execute_result"
    }
   ],
   "source": [
    "data_last_10  # print the dataframe"
   ]
  },
  {
   "cell_type": "code",
   "execution_count": 58,
   "metadata": {},
   "outputs": [],
   "source": [
    "data_first_10.to_json(r'C:\\Users\\ambar\\OneDrive\\Desktop\\Notes\\ADM\\ADM-HW2-main\\RQ3\\data_first_10.json', orient='records') # save the dataframe as a json file\n",
    "data_last_10.to_json(r'C:\\Users\\ambar\\OneDrive\\Desktop\\Notes\\ADM\\ADM-HW2-main\\RQ3\\data_last_10.json', orient='records') # save the dataframe as a json file"
   ]
  },
  {
   "cell_type": "markdown",
   "metadata": {},
   "source": [
    "# [RQ4]"
   ]
  },
  {
   "cell_type": "markdown",
   "metadata": {},
   "source": [
    "## Data Cleaning/Preprocessing"
   ]
  },
  {
   "cell_type": "code",
   "execution_count": 39,
   "metadata": {},
   "outputs": [],
   "source": [
    "# Remove whitespace from the 'name' field\n",
    "df_lighter_authors = df_lighter_authors.withColumn('name', trim(col('name')))\n",
    "\n",
    "# Drop rows where 'name' is null or empty\n",
    "df_lighter_authors = df_lighter_authors.filter((col('name') != \"\") & (col('name').isNotNull()))\n",
    "\n",
    "# Drop rows where 'id' is null\n",
    "df_lighter_authors = df_lighter_authors.filter(col('id').isNotNull())"
   ]
  },
  {
   "cell_type": "markdown",
   "metadata": {},
   "source": [
    "## EDA"
   ]
  },
  {
   "cell_type": "code",
   "execution_count": 40,
   "metadata": {},
   "outputs": [],
   "source": [
    "duplicate_authors = df_lighter_authors.groupBy(\"name\").agg(count(\"id\").alias(\"num_ids\")).filter(\"num_ids > 1\") # find the duplicate authors"
   ]
  },
  {
   "cell_type": "code",
   "execution_count": 41,
   "metadata": {},
   "outputs": [
    {
     "data": {
      "text/plain": [
       "37"
      ]
     },
     "execution_count": 41,
     "metadata": {},
     "output_type": "execute_result"
    }
   ],
   "source": [
    "duplicate_authors.count() # count the number of duplicate authors"
   ]
  },
  {
   "cell_type": "markdown",
   "metadata": {},
   "source": [
    "The names of the eponymous authors and the number of unique IDs associated with each name. Hence, the answer to the question is _false_."
   ]
  },
  {
   "cell_type": "code",
   "execution_count": 42,
   "metadata": {},
   "outputs": [
    {
     "name": "stdout",
     "output_type": "stream",
     "text": [
      "+--------------------+-------+\n",
      "|                name|num_ids|\n",
      "+--------------------+-------+\n",
      "|     Julie  Campbell|      2|\n",
      "|     Peter  Marshall|      2|\n",
      "|   Catherine   Jones|      2|\n",
      "|         Joseph Fink|      2|\n",
      "| Peter      Marshall|      2|\n",
      "|    Paul      Davies|      2|\n",
      "|   James C.L. Carson|      2|\n",
      "|Hildegard von Bingen|      2|\n",
      "|          James Kent|      2|\n",
      "|           محمد نجيب|      2|\n",
      "|    George  Franklin|      2|\n",
      "|          M.K. Graff|      2|\n",
      "|      Martin    Shaw|      2|\n",
      "|       Erin  Bedford|      2|\n",
      "|William Messner-L...|      2|\n",
      "|         David Yates|      2|\n",
      "|         Paul Graham|      2|\n",
      "|       Peter  Davies|      2|\n",
      "|Katherine Mercuri...|      2|\n",
      "|       Dimitar Dimov|      2|\n",
      "|       David  Nelson|      2|\n",
      "|        Q. Hayashida|      2|\n",
      "|          Peter King|      2|\n",
      "|         Peter Green|      2|\n",
      "|          John  Mole|      2|\n",
      "|          Mike   Lee|      2|\n",
      "|Christopher Phillips|      2|\n",
      "|         Chris Lynch|      2|\n",
      "|     Caroline Miller|      2|\n",
      "|       Yordan Yovkov|      2|\n",
      "| Jackson Butch Guice|      2|\n",
      "|      Boris Zakhoder|      2|\n",
      "|      Peter    Green|      2|\n",
      "|        Jorge Molina|      2|\n",
      "|             Cicerón|      2|\n",
      "|Robert W. Sulliva...|      2|\n",
      "|          小野不由美|      2|\n",
      "+--------------------+-------+\n",
      "\n"
     ]
    }
   ],
   "source": [
    "duplicate_authors.show(50) # show the duplicate authors"
   ]
  },
  {
   "cell_type": "markdown",
   "metadata": {},
   "source": [
    "## Data Cleaning/Preprocessing"
   ]
  },
  {
   "cell_type": "code",
   "execution_count": 85,
   "metadata": {},
   "outputs": [],
   "source": [
    "df_lighter_books = df_lighter_books.dropna(subset=[\"author_id\", \"title\", \"average_rating\"]) # Remove rows with null or missing values\n",
    "df_lighter_books = df_lighter_books.filter(trim(col('title')) != '') # removes rows with empty title\n",
    "df_lighter_books = df_lighter_books.withColumn(\"title\", trim(col(\"title\"))) # Trim whitespace from the title column"
   ]
  },
  {
   "cell_type": "markdown",
   "metadata": {},
   "source": [
    "## EDA"
   ]
  },
  {
   "cell_type": "markdown",
   "metadata": {},
   "source": [
    "A function that, given a list of author_id, outputs a dictionary where each author_id is a key, and the related value is a list with the names of all the books the author has written."
   ]
  },
  {
   "cell_type": "code",
   "execution_count": 86,
   "metadata": {},
   "outputs": [],
   "source": [
    "def get_author_books(author_ids):\n",
    "\n",
    "    # Filter df_authors on the provided author_ids\n",
    "    df_author_books = df_lighter_books.filter(df_lighter_books['author_id'].isin(author_ids))\n",
    "    \n",
    "    # Group by author id and collect all book titles\n",
    "    df_author_books = df_author_books.groupBy(\"author_id\").agg(collect_list(\"title\").alias(\"books\"))\n",
    "    \n",
    "    # Convert to Python dictionary\n",
    "    author_books_dict = {row['author_id']: row['books'] for row in df_author_books.collect()}\n",
    "    \n",
    "    return author_books_dict"
   ]
  },
  {
   "cell_type": "code",
   "execution_count": 87,
   "metadata": {},
   "outputs": [
    {
     "name": "stdout",
     "output_type": "stream",
     "text": [
      "{4: [\"The Hitchhiker's Guide to the Galaxy (Hitchhiker's Guide to the Galaxy, #1)\", \"The Ultimate Hitchhiker's Guide: Five Complete Novels and One Story (Hitchhiker's Guide to the Galaxy, #1-5)\", \"The Ultimate Hitchhiker's Guide to the Galaxy (Hitchhiker's Guide to the Galaxy, #1-5)\", \"The Hitchhiker's Guide to the Galaxy (Hitchhiker's Guide to the Galaxy, #1)\", \"The Hitchhiker's Guide to the Galaxy (Hitchhiker's Guide to the Galaxy, #1)\", \"The Hitchhiker's Guide to the Galaxy: Quandary Phase (Hitchhiker's Guide: Radio Play, #4)\", \"The Ultimate Hitchhiker's Guide (Hitchhiker's Guide to the Galaxy, #1-5)\", \"The Hitchhiker's Guide to the Galaxy: Quintessential Phase (Hitchhiker's Guide: Radio Play, #5)\", 'The Long Dark Tea-Time of the Soul (Dirk Gently, #2)', \"Dirk Gently's Holistic Detective Agency (Dirk Gently, #1)\", 'The Salmon of Doubt (Dirk Gently, #3)', \"Mostly Harmless (Hitchhiker's Guide to the Galaxy, #5)\", \"Life, the Universe and Everything (Hitchhiker's Guide, #3)\", 'The Long Dark Tea-Time of the Soul (Dirk Gently, #2)', 'The Long Dark Tea-Time of the Soul (Dirk Gently, #2)', \"Dirk Gently's Holistic Detective Agency (Dirk Gently, #1)\", 'The Salmon of Doubt', 'The Salmon of Doubt: Hitchhiking the Galaxy One Last Time', 'The Salmon of Doubt: Hitchhiking the Galaxy One Last Time (Dirk Gently, #3)', 'Salmon of Doubt', 'The Salmon Of Doubt', 'Salmon of Doubt: Hitchhiking the Galaxy One Last Time', 'The Deeper Meaning of Liff', \"Dirk Gently's Holistic Detective Agency (Dirk Gently #1)\", \"The Hitchhiker's Guide to the Galaxy (Hitchhiker's Guide, #1)\", \"Life, the Universe and Everything (Hitchhiker's Guide to the Galaxy, #3)\", \"The Restaurant at the End of the Universe (Hitchhiker's Guide to the Galaxy, #2)\", 'Last Chance to See', \"So Long, and Thanks for All the Fish (Hitchhiker's Guide to the Galaxy, #4)\", \"Mostly Brilliant (Hitchhiker's Guide, #1-5)\", \"Guide to the Hitchhiker's Guide to the Galaxy\", \"So Long, and Thanks for All the Fish (Hitchhiker's Guide, #4)\", \"So Long, and Thanks for All the Fish (Hitchhiker's Guide, #4)\", \"The Restaurant at the End of the Universe (The Hitchhiker's Guide to the Galaxy, #2)\", \"Two Complete Novels: Dirk Gently's Holistic Detective Agency / The Long Dark Tea-time of the Soul (Dirk Gently #1-2)\", \"The Hitchhiker's Guide to the Galaxy (Hitchhiker's Guide to the Galaxy, #1)\", \"Hitch-hiker's Guide to the Galaxy: The Original Radio Scripts\", \"Mostly Harmless (Hitchhiker's Guide, #5)\", \"The Hitchhiker's Trilogy (Hitchhiker's Guide, #1-5)\", \"The Illustrated Hitchhiker's Guide To The Galaxy\", \"The Hitchhiker's Guide to the Galaxy (Hitchhiker's Guide, #1)\", \"The Hitchhiker's Guide to the Galaxy (Hitchhiker's Guide to the Galaxy, #1)\", \"The Hitchhiker's Guide to the Galaxy: The Quintessential Phase (Hitchhiker's Guide: Radio Play, #5)\", \"The Hitchhiker's Guide to the Galaxy Radio Scripts: Tertiary, Quandary & Quintessential Phases\", \"The More Than Complete Hitchhiker's Guide (Hitchhiker's Guide, #1-4 + short story)\", \"The Hitchhiker's Guide to the Galaxy (Hitchhiker's Guide to the Galaxy, #1)\", 'Last Chance to See', \"So Long, and Thanks for All the Fish (Hitchhiker's Guide, #4)\", 'Guía del autoestopista galáctico', \"The Hitchhiker's Guide to the Galaxy Omnibus (Hitchhiker's Guide, #1-4)\", \"The Hitchhiker's Guide to the Galaxy Omnibus (Hitchhiker's Guide, #1-4)\", \"Dirk Gently's Holistic Detective Agency / The Long Dark Tea-time of the Soul (Dirk Gently #1-2)\", \"The Restaurant at the End of the Universe (Hitchhiker's Guide, #2)\", 'The Meaning of Liff (Meaning of Liff, #1)', \"The Hitchhiker's Guide to the Galaxy (Hitchhiker's Guide, #1)\", \"The Hitchhiker's Guide to the Galaxy\", \"Mostly Harmless (Hitchhiker's Guide, #5)\", \"The More Than Complete Hitchhiker's Guide\", 'Douglas Adams Live in Concert', \"The Restaurant at the End of the Universe (Hitchhiker's Guide to the Galaxy #2)\", \"The Restaurant at the End of the Universe (Hitchhiker's Guide, #2)\", \"The Restaurant at the End of the Universe (Hitchhiker's Guide, #2)\", \"The Restaurant at the End of the Universe (Hitchhiker's Guide, #2)\", \"Life, the Universe and Everything (Hitchhiker's Guide, #3)\", 'La vida, el universo y todo lo demás (Guía del autoestopista galáctico, #3)', 'So Long, and Thanks for All the Fish', \"So Long, and Thanks for All the Fish (Hitchhiker's Guide, #4)\", \"So Long, and Thanks for All the Fish (Hitchhiker's Guide to the Galaxy #4)\", \"So Long, and Thanks for All the Fish (Hitchhiker's Guide, #4)\", 'So long, and thanks for all the fish', 'So Long and Thanks for All the Fish', \"Mostly Harmless (Hitchhiker's Guide to the Galaxy #5)\", \"Mostly Harmless (Hitchhiker's Guide, #5)\", \"Life, the Universe and Everything (Hitchhiker's Guide, #3)\", 'The Long Dark Tea-Time of the Soul (Dirk Gently, #2)', \"Mostly Harmless (Hitchhiker's Guide to the Galaxy, #5)\", \"The Restaurant at the End of the Universe (Hitchhiker's Guide, #2)\", 'So Long, and Thanks for All the Fish', 'Douglas Adams Live in Concert', \"The Hitchhiker's Guide to the Galaxy (Hitchhiker's Guide #1)\", \"The Hitchhiker's Guide to the Galaxy (Hitchhiker's Guide, #1)\", \"The Hitchhiker's Guide To The Galaxy (Hitchhiker's Guide, #1-4)\", \"The Hitchhiker's Guide to the Galaxy (Hitchhiker's Guide to the Galaxy, #1)\", 'So long, and thanks for all the fish', \"Mostly Harmless (Hitchhiker's Guide, #5)\", 'Beau comme un aéroport (Dirk Gently, détective holistique, #2)', 'Un cheval dans la salle de bains', \"Life, the Universe and Everything (Hitchhiker's Guide, #3)\", 'So Long, and Thanks for All the Fish', \"The Restaurant at the End of the Universe (Hitchhiker's Guide, #2)\", \"The Hitchhiker's Guide to the Galaxy Omnibus (Hitchhiker's Guide, #1-4)\", 'The Deeper Meaning of Liff', 'Per Anhalter durch die Galaxis (Per Anhalter durch die Galaxis, #1-5)', 'The Original Hitchhiker Radio Scripts', 'Die Letzten ihrer Art: Eine Reise zu den aussterbenden Tieren unserer Erde', 'Der lange dunkle Fünfuhrtee der Seele (Dirk Gently, #2)', 'Le Dernier Restaurant avant la fin du monde (H2G2 #2)', \"The Hitchhiker's Guide to the Galaxy (Hitchhiker's Guide to the Galaxy, #1)\", \"Einmal Rupert und zurück (Hitchhiker's Guide to the Galaxy, #5)\", \"Macht's gut, und danke für den Fisch (Hitchhiker's Guide to the Galaxy, #4)\", 'Das Restaurant am Ende des Universums (Per Anhalter durch die Galaxis, #2)', 'Globalement inoffensive (H2G2 #5)', 'Informe sobre la Tierra: Fundamentalmente inofensiva (Guía del autoestopista galáctico, #5)', \"The Hitchhiker's Guide to the Galaxy (Hitchhiker's Guide, #1)\", \"The Hitchhiker's Guide to the Galaxy (Hitchhiker's Guide, #1)\", \"The Hitchhiker's Guide to the Galaxy: The Trilogy of Four (Hitchhiker's Guide, #1-4)\", \"The Hitchhiker's Guide to the Galaxy Box Set (Hitchhiker's Guide, #1-5)\", \"The Hitch Hiker's Guide to the Galaxy (Hitchhiker's Guide, #1)\", \"The Hitchhiker's Guide to the Galaxy: The Original Radio Scripts\", \"The Illustrated Hitchhiker's Guide To The Galaxy\", \"The Restaurant at the End of the Universe (Hitchhiker's Guide, #2)\", \"Mostly Harmless (Hitchhiker's Guide, #5)\", \"The Hitchhiker's Guide to the Galaxy  (Hitchhiker's Guide, #1)\", \"Dirk Gently's Holistic Detective Agency (Dirk Gently #1)\", \"The Hitchhiker's Guide to the Galaxy  (Hitchhiker's Guide to the Galaxy, #1)\", 'The Dirk Gently Omnibus (Dirk Gently, #1-2)', 'Dirk Gently. Agencia de investigaciones holísticas', 'Der elektrische Mönch (Dirk Gently #1)', 'The Salmon of Doubt: Hitchhiking the Galaxy One Last Time', \"The Hitchhiker's Guide to the Galaxy (Hitchhiker's Guide, #1)\", \"The Hitchhiker's Guide to the Galaxy: The Quandary Phase (Hitchhiker's Guide: Radio Play, #4)\", \"The Restaurant at the End of the Universe (Hitchhiker's Guide, #2)\", \"So Long, and Thanks for All the Fish (Hitchhiker's Guide, #4)\", \"The Hitch Hiker's Guide to the Galaxy: A Trilogy in Five Parts\", \"La vie, l'univers et le reste\", 'Lachs im Zweifel. Zum letzten Mal per Anhalter durch die Galaxis', \"The Hitchhiker's Guide to the Galaxy (Hitchhiker's Guide to the Galaxy, #1)\", \"Mostly Harmless (Hitchhiker's Guide, #5)\", \"Mostly Harmless (Hitchhiker's Guide, #5)\", \"Dirk Gently's Holistic Detective Agency (Dirk Gently #1)\", \"The Restaurant at the End of the Universe (Hitchhiker's Guide, #2)\", \"Dirk Gently's Holisitic Detective Agency\", 'So Long, and Thanks for All the Fish', \"Life, the Universe and Everything (Hitchhiker's Guide, #3)\", \"The Hitchhiker's Guide to the Galaxy (Hitchhiker's Guide, #1)\", \"The Hitchhiker's Guide to the Galaxy (Hitchhiker's Guide, #1)\", \"The Hitchhiker's Guide to the Galaxy (Hitchhiker's Guide, #1)\", \"The Hitchhiker's Guide to the Galaxy (Hitchhiker's Guide, #1)\", 'The Salmon of Doubt: Hitchhiking the Galaxy One Last Time', 'Last Chance to See', 'The Salmon Of Doubt: Hitchhiking The Galaxy One Last Time', \"The Hitchhiker's Guide to the Galaxy (Hitchhiker's Guide to the Galaxy, #1)\", 'Last Chance to See', \"Douglas Adams at the BBC: A Celebration of the Author's Life and Work\", \"Mostly Harmless (Hitchhiker's Guide to the Galaxy, #5)\", \"The Restaurant at the End of the Universe (Hitchhiker's Guide, #2)\", \"So Long, and Thanks for All the Fish (Hitchhiker's Guide, #4)\", 'Macht’s gut, und danke für den Fisch (Per Anhalter durch die Galaxis, #4)', 'Salut, et encore merci pour le poisson (H2G2 #4)', \"The Hitchhiker's Guide to the Galaxy (Hitchhiker's Guide to the Galaxy, #1)\", \"The Hitchhiker's Guide to the Galaxy: The Tertiary Phase (Hitchhiker's Guide: Radio Play, #3)\", \"The Hitchhiker's Guide to the Galaxy (Hitchhiker's Guide to the Galaxy, #1)\", 'The Meaning of Liff', \"The Hitchhiker's Trilogy\", 'The Meaning of Liff', \"The Restaurant at the End of the Universe (Hitchhiker's Guide, #2)\", \"So Long, and Thanks for All the Fish (Hitchhiker's Guide, #4)\", 'The Salmon of Doubt: Hitchhiking the Galaxy One Last Time', 'Iras Celestiales: Una investigación de Dirk Gently (Dirk Gently #2)', 'Le Dernier Restaurant Avant la Fin du Monde (Le Guide Galactique 2)', 'The Meaning Of Liff', \"Life, the Universe and Everything (Hitchhiker's Guide to the Galaxy, #3)\", \"The Hitchhiker's Guide to the Galaxy (Hitchhiker's Guide to the Galaxy, #1)\", \"The Hitch Hiker's Guide to the Galaxy: A Trilogy in Four Parts (Hitchhiker's Guide, #1-4)\", \"So Long, and Thanks for All the Fish (Hitchhiker's Guide #4)\", \"Life, the Universe and Everything (Hitchhiker's Guide to the Galaxy #3)\", \"The Hitchhiker's Guide to the Galaxy 5 Book Set (Hitchhiker's Guide, #1-5)\", \"The Ultimate Hitchhiker's Guide to the Galaxy (Hitchhiker's Guide to the Galaxy #1-5)\", 'Last Chance to See', 'The Salmon of Doubt: Hitchhiking the Galaxy One Last Time', \"Dirk Gently's Holistic Detective Agency (Dirk Gently, #1)\", \"The Restaurant at the End of the Universe (Hitchhiker's Guide, #2)\", \"Life, the Universe and Everything (Hitchhiker's Guide #3)\", 'The Long Dark Tea-time of the Soul (Dirk Gently, #2)', \"The Hitchhiker's Guide to the Galaxy: The Tertiary Phase (Hitchhiker's Guide: Radio Play, #3)\", \"The Hitchhiker Trilogy (Hitchhiker's Guide, #1-5)\", \"The Hitchhiker's Guide to the Galaxy: Quintessential Phase\", \"The Hitchhiker's Guide to the Galaxy (Hitchhiker's Guide to the Galaxy, #1)\", \"The Hitchhiker's Guide to the Galaxy (Hitchhiker's Guide to the Galaxy, #1)\", \"The Hitchhiker's Guide to the Galaxy (Hitchhiker's Guide to the Galaxy, #1)\", \"The Hitchhiker's Guide to the Galaxy (Hitchhiker's Guide to the Galaxy, #1)\", \"The Hitchhiker's Guide to the Galaxy (Hitchhiker's Guide to the Galaxy, #1)\", \"The Hitchhiker's Guide to the Galaxy: Complete Trilogy in Five Volumes (Hitchhiker's Guide, #1-5)\", \"The Restaurant at the End of the Universe (Hitchhiker's Guide, #2)\", \"Life, the Universe and Everything (Hitchhiker's Guide to the Galaxy, #3)\", \"So Long, and Thanks for All the Fish (Hitchhiker's Guide, #4)\", 'So Long, and Thanks for All the Fish', \"Mostly Harmless (Hitchhiker's Guide, #5)\", \"Mostly Harmless (Hitchhiker's Guide, #5)\", \"The Hitchhiker's Guide to the Galaxy: Tertiary Phase (Hitchhiker's Guide: Radio Play, #3)\", \"The Hitchhiker's Guide to the Galaxy (Hitchhiker's Guide, #1)\", \"The Hitchhiker's Guide to the Galaxy (Hitchhiker's Guide, #1)\", \"The Hitchhiker's Guide to the Galaxy: A Trilogy in Four Parts\", 'Das Leben, das Universum und der ganze Rest (Per Anhalter durch die Galaxis, #3)', \"The Hitchhiker's Guide to the Galaxy (Hitchhiker's Guide, #1)\", \"The Restaurant at the End of the Universe (Hitchhiker's Guide, #2)\", \"The Restaurant at the End of the Universe (Hitchhiker's Guide, #2)\", \"The Restaurant at the End of the Universe (Hitchhiker's Guide, #2)\", \"The Restaurant at the End of the Universe (Hitchhiker's Guide, #2)\", \"The Restaurant at the End of the Universe (Hitchhiker's Guide, #2)\", \"The Hitchhiker's Guide to the Galaxy Boxed Set (Hitchhiker's Guide, #1-3)\", \"The Restaurant at the End of the Universe (Hitchhiker's Guide to the Galaxy, #2)\", \"The Restaurant at the End of the Universe (Hitchhiker's Guide, #2)\", \"The Restaurant at the End of the Universe (Hitchhiker's Guide, #2)\", \"The Restaurant at the End of the Universe (Hitchhiker's Guide, #2)\", \"The Restaurant at the End of the Universe (Hitchhiker's Guide, #2)\", \"Dirk Gently's Holistic Detective Agency / The Long Dark Tea-time of the Soul (Dirk Gently, #1-2)\", 'The Long Dark Tea-Time of the Soul (Dirk Gently, #2)', 'The Long Dark Tea-Time of the Soul (Dirk Gently, #2)', \"Dirk Gently's Holistic Detective Agency / The Long Dark Tea-time of the Soul (Dirk Gently #1-2)\", 'The Long Dark Tea-Time of the Soul (Dirk Gently, #2)', 'The Long Dark Tea-Time of the Soul (Dirk Gently, #2)', \"The Hitchhiker's Guide to the Galaxy Omnibus (Hitchhiker's Guide, #1-4)\", \"Dirk Gently's Holistic Detective Agency\", \"Dirk Gently's Holistic Detective Agency (Dirk Gently #1)\", \"Dirk Gently's Holistic Detective Agency (Dirk Gently #1)\", \"Dirk Gently's Holistic Detective Agency (Dirk Gently #1)\", \"Dirk Gently's Holistic Detective Agency (Dirk Gently #1)\", 'Linnunrata: Viisiosainen trilogia', 'Last Chance to See', 'Last Chance to See', 'Douglas Adams Live in Concert', \"The Hitchhiker's Guide to the Galaxy (Hitchhiker's Guide, #1)\", \"The Hitch Hiker's Guide to the Galaxy: Complete Set. Complete & Unabridged\", \"The Hitchhiker's Guide to the Galaxy  (Hitchhiker's Guide, #1)\", \"The Hitchhiker's Guide to the Galaxy (Hitchhiker's Guide, #1)\", \"The Hitchhiker's Guide to the Galaxy (Hitchhiker's Guide, #1)\", \"The Hitchhiker's Guide to the Galaxy (Hitchhiker's Guide, #1)\", \"The Hitchhiker's Guide to the Galaxy (Hitchhiker's Guide to the Galaxy, #1)\", \"The Hitchhiker's Guide to the Galaxy (Hitchhiker's Guide to the Galaxy, #1)\", \"The Hitchhiker's Guide to the Galaxy (Hitchhiker's Guide to the Galaxy, #1)\", \"The Hitchhiker's Guide to the Galaxy: The Quandary Phase (Hitchhiker's Guide: Radio Play, #4)\", \"The Hitchhiker's Guide To The Galaxy\", \"The Hitchhiker's Guide to the Galaxy (Hitchhiker's Guide, #1)\", \"The Hitchhiker's Guide To The Galaxy The Tertiary Phase\", 'The Salmon of Doubt', \"Dirk Gently's Holistic Detective Agency (Dirk Gently #1)\", \"Mostly Harmless (Hitchhiker's Guide, #5)\", \"So Long, and Thanks for All the Fish (Hitchhiker's Guide, #4)\", \"So Long, and Thanks for All the Fish (Hitchhiker's Guide to the Galaxy #4)\", 'So Long, and Thanks for All the Fish', \"Life, the Universe and Everything (Hitchhiker's Guide, #3)\", \"The Hitchhiker's Guide to the Galaxy (Hitchhiker's Guide to the Galaxy, #1)\", \"The Hitchhiker's Guide to the Galaxy (Hitchhiker's Guide to the Galaxy, #1)\", \"The Hitchhiker's Guide to the Galaxy (Hitchhiker's Guide to the Galaxy, #1)\", \"The Restaurant at the End of the Universe (Hitchhiker's Guide, #2)\", \"Dirk Gently's Holistic Detective Agency\", 'Автостопом по Галактике. Том 1. Путеводитель туда', \"Losos' somnenij\", 'Salmon of Doubt (Dirk Gently, #3)', 'The Original Hitchhiker Radio Scripts', 'The Utterly Utterly Merry Comic Relief Christmas Book', 'Not 1982', \"Life, the Universe and Everything (Hitchhiker's Guide, #3)\", \"The Ultimate Hitchhiker's Guide to the Galaxy (Hitchhiker's Guide, #1-5 + short story)\", \"Life, the Universe and Everything (The Hitchhiker's Guide to the Galaxy, #3)\", 'Le Guide du voyageur galactique', 'The Salmon Of Doubt: Hitchhiking The Galaxy One Last Time', \"The Hitchhiker's Guide to the Galaxy (Hitchhiker's Guide to the Galaxy, #1)\", 'The Deeper Meaning of Liff', 'The Long Dark Tea-Time of the Soul (Dirk Gently, #2)', 'The Long Dark Tea-Time of the Soul (Dirk Gently, #2)', 'The Long Dark Tea-Time of the Soul (Dirk Gently, #2)', 'The Long Dark Tea-Time of the Soul (Dirk Gently, #2)', 'The Salmon Of Doubt', \"The Restaurant at the End of the Universe (Hitchhiker's Guide, #2)\", \"The Restaurant at the End of the Universe (Hitchhiker's Guide, #2)\", \"Life, the Universe and Everything (Hitchhiker's Guide, #3)\", \"The Deeper Meaning of Liff: A Dictionary of Things That There Aren't Any Words for Yet\", \"The Hitchhiker's Guide to the Galaxy\", 'So long, and thanks for all the fish', 'The Long Dark Tea-Time of the Soul (Dirk Gently, #2)', 'The Long Dark Tea-Time of the Soul (Dirk Gently, #2)', 'Hasta luego, y gracias por el pescado (Guía del autoestopista galáctico, #4)', \"Life, the Universe and Everything (Hitchhiker's Guide, #3)\", \"Dirk Gently's Holistic Detective Agency (Dirk Gently #1)\", 'Fonds de tiroir (Dirk Gently, détective holistique, #3)', 'Salut, et encore merci pour le poisson', \"The Restaurant at the End of the Universe (Hitchhiker's Guide, #2)\", \"The Hitchhiker's Guide to the Galaxy (Hitchhiker's Guide to the Galaxy, #1)\", \"The Hitchhiker's Guide to the Galaxy (Hitchhiker's Guide, #1-5)\", \"The Hitch Hiker's Guide To The Galaxy: Primary Phase\", \"The Hitchhiker's Guide to the Galaxy (The Original Radio Series)\", \"The Hitchhiker's Guide to the Galaxy: Primary & Secondary Phase\", \"The Hitchhiker's Guide to the Galaxy: The Quintessential Phase (Hitchhiker's Guide: Radio Play, #5)\", \"The Hitchhiker's Guide to the Galaxy: The Complete Trilogy of Five (Hitchhiker's Guide, #1-5)\", \"Dirk Gently's Holistic Detective Agency (Dirk Gently #1)\", \"The Hitchhiker's Guide to the Galaxy (Hitchhiker's Guide to the Galaxy, #1)\", \"The Illustrated Hitchhiker's Guide To The Galaxy\", 'Das Restaurant am Ende des Universums (Per Anhalter durch die Galaxis, #2)', 'Per Anhalter durch die Galaxis (Per Anhalter durch die Galaxis, #1)', 'Lachs im Zweifel. Zum letzten Mal per Anhalter durch die Galaxis', 'Das Restaurant am Ende des Universums. Hörspiel (Per Anhalter durch die Galaxis, #2)', 'Per Anhalter Durch Die Galaxis 2 Hörspiel', 'Per Anhalter durch die Galaxis', 'Per Anhalter durch die Galaxis (Per Anhalter durch die Galaxis, #1)', 'Per Anhalter durch die Galaxis (Per Anhalter durch die Galaxis, #1)', 'Das Leben, das Universum und der ganze Rest (Per Anhalter durch die Galaxis, #3)', \"The Hitchhiker's Guide to the Galaxy (Hitchhiker's Guide #1)\", \"Mostly Harmless (Hitchhiker's Guide, #5)\", 'So Long, and Thanks for All the Fish', 'מדריך הטרמפיסט לגלקסיה', 'Le Guide du routard galactique', 'guide galactique', 'Guide du routard galactique', 'Autostopem przez galaktykę', 'Życie, Wszechświat i cała reszta', 'Restauracja na końcu wszechświata', 'Der tiefere Sinn des Labenz (Der Sinn des Labenz #2)', 'The Deeper Meaning of Liff', \"Mostly Harmless (Hitchhiker's Guide, #5)\", \"Mostly Harmless (Hitchhiker's Guide, #5)\", 'Der lange dunkle Fünfuhrtee der Seele', 'Der tiefere Sinn des Labenz (Der Sinn des Labenz #2)', 'The Long Dark Tea-Time of the Soul (Dirk Gently, #2)', 'The Long Dark Tea-Time of the Soul (Dirk Gently, #2)', \"Mostly Harmless (Hitchhiker's Guide, #5)\", \"Life, the Universe and Everything (Hitchhiker's Guide, #3)\", \"The Hitchhiker's Guide to the Galaxy (Hitchhiker's Guide, #1-5)\", 'Cześć, i dzięki za ryby (Autostopem przez Galaktykę #4)', 'W zasadzie niegroźna (Autostopem przez Galaktykę #5)', 'The Salmon of Doubt: Hitchhiking the Galaxy One Last Time', \"So Long, and Thanks for All the Fish (Hitchhiker's Guide, #4)\", \"Mostly Harmless (Hitchhiker's Guide, #5)\", \"The Hitchhiker's Guide to the Galaxy (Hitchhiker's Guide, #1)\", 'Le Guide galactique (coffret en 5 volumes)', 'Mañana no estarán. En busca de las más variopintas especies de animales al borde de la extinción', \"Dirk Gently's holistische Detektei (Dirk Gently #1)\", \"Life, the Universe and Everything (Hitchhiker's Guide, #3)\", 'The Salmon of Doubt: Hitchhiking the Galaxy One Last Time', 'Last Chance to See', 'Last Chance to See', \"Hitchhikers Trilogy: Omni Edition (Hitchhiker's Guide, #1-3)\", 'Hotondo Mugai', 'O Guia do Mochileiro das Galáxias (O mochileiro das galáxias, #1)', \"The Ultimate Hitchhiker's Guide to the Galaxy (Hitchhiker's Guide to the Galaxy #1-5)\", \"The More Than Complete Hitchhikers Guide (Hitchhiker's Guide, #1-4 + short story)\", 'Per Anhalter durch die Galaxis', 'Per Anhalter durch die Galaxis/Das Restaurant am Ende des Universums (Per Anhalter durch die Galaxis, #1-2)', \"Liftarens guide till galaxen (Hitchhiker's Guide, #1)\", '宇宙クリケット大戦争 [Uchū kuriketto daisensō]', '銀河ヒッチハイク・ガイド [Ginga hitchihaiku gaido]', '宇宙の果てのレストラン [Uchū no hate no resutoran]', 'Het transgalactisch liftershandboek', 'Die Letzten ihrer Art', 'Die Letzten ihrer Art', 'Die letzten ihrer Art', 'Die Letzten ihrer Art', \"La vita, l'universo e tutto quanto (Guida galattica per gli autostoppisti, #3)\", \"Ristorante al termine dell'Universo (Guida galattica per gli autostoppisti, #2)\", 'Das Restaurant am Ende des Universums (Per Anhalter durch die Galaxis, #2)', 'Das Restaurant am Ende des Universums (Per Anhalter durch die Galaxis, #2)', 'Per Anhalter durch die Galaxis / Das Restaurant am Ende des Universums', 'Das Leben, das Universum und der ganze Rest (Per Anhalter durch die Galaxis, #3)', \"Das Leben, das Universum & der ganze Rest/Mach's gut, & danke für den Fisch\", 'Das Leben, das Universum und der ganze Rest (Per Anhalter durch die Galaxis, #3)', \"Macht's gut und danke für den Fisch\", \"Macht's gut und danke für den Fisch (Per Anhalter durch die Galaxis, #4)\", 'Der junge Zaphod geht auf Nummer Sicher', \"Der elektrische Mönch: Dirk Gently's holistische Detektei (Dirk Gently #1)\", 'Le Guide galactique', \"Life, the Universe and Everything (Hitchhiker's Guide, #3)\", \"Hitch-hiker's Guide to the Galaxy: The Original Radio Scripts\", 'O restaurante no fim do universo (O Guia do Mochileiro das Galáxias, #2)', 'A Vida, o Universo e Tudo Mais (O Guia do Mochileiro das Galáxias, #3)', 'Até mais, e obrigado pelos peixes! (O Guia do Mochileiro das Galáxias, #4)', 'Praticamente inofensiva (O Guia do Mochileiro das Galáxias, #5)', 'Globalement Inoffensive', \"Dirk Gently's Holistic Detective Agency (Dirk Gently #1)\", 'Le Dernier Restaurant Avant La Fin Du Monderoman', 'The Long Dark Tea-Time of the Soul (Dirk Gently, #2)', \"The Hitchhiker's Guide to the Galaxy (Hitchhiker's Guide to the Galaxy, #1)\", \"The Hitchhiker's Guide to the Galaxy\", \"The Restaurant at the End of the Universe (Hitchhiker's Guide, #2)\", 'Per Anhalter durch die Galaxis', \"Life, the Universe and Everything (Hitchhiker's Guide, #3)\", 'Per Anhalter durch die Galaxis (Per Anhalter durch die Galaxis, #1)', 'Guida galattica per gli autostoppisti', \"The Ultimate Hitchhiker's Guide to the Galaxy (Hitchhiker's Guide to the Galaxy #1-5)\", \"Mostly Harmless (Hitchhiker's Guide, #5)\", 'The Salmon Of Doubt', 'Le guide du voyageur galactique', 'Addio e grazie per tutto il pesce (Guida galattica per gli autostoppisti, #4)', \"The Restaurant at the End of the Universe (Hitchhiker's Guide, #2)\", 'Der tiefere Sinn des Labenz', 'Der lange dunkle Fünfuhrtee der Seele', \"The Hitchhiker's Guide to the Galaxy (Hitchhiker's Guide to the Galaxy, #1)\", 'Hitchhikers Guide: 2 Secondary Spec.(4 Cd', 'Douglas Adams Live in Concert', 'Štoparski vodnik po Galaksiji (Štoparski vodnik po Galaksiji, #1)', 'O življenju, vesolju in sploh vsem (Štoparski vodnik po Galaksiji, #3)', 'Zbogom in hvala za vse ribe (Štoparski vodnik po Galaksiji, #4)', 'Pretežno neškodljiva (Štoparski vodnik po Galaksiji, #5)', 'Łosoś zwątpienia: Autostopem przez Galaktykę po raz ostatni', 'The Long Dark Tea-Time of the Soul: Radio Play (Dirk Gently, #2)', 'À Boleia pela Galáxia', 'Restoran na kraju svemira', \"The Hitchhiker's Guide to the Galaxy (Hitchhiker's Guide to the Galaxy, #1)\", \"Life, the Universe and Everything (Hitchhiker's Guide, #3)\", \"סוכנות הבילוש של דירק ג'נטלי\", 'Per Anhalter ins All: keine Panik', \"Per Anhalter ins All 7 - 9: Das Sofa auf Lord's Cricket Ground\", 'Le Guide Galactique', 'שעת התה הארוכה והאפלה של הנפש', \"Life, the Universe and Everything (Hitchhiker's Guide, #3)\", \"Life, the Universe and Everything (Hitchhiker's Guide, #3)\", \"Life, the Universe and Everything (Hitchhiker's Guide, #3)\", \"So Long, and Thanks for All the Fish (Hitchhiker's Guide, #4)\", \"The Restaurant at the End of the Universe (Hitchhiker's Guide 2)\", \"Life, the Universe and Everything (Hitchhiker's Guide, #3)\", 'Per Anhalter durch die Galaxis/Das Restaurant am Ende des Universums', 'Per Anhalter durch die Galaxis', \"Macht's gut und danke für den Fisch (Per Anhalter durch die Galaxis, #4)\", \"The Restaurant at the End of the Universe (Hitchhiker's Guide, #2)\", \"Life, the Universe and Everything (Hitchhiker's Guide, #3)\", \"The Restaurant at the End of the Universe (Hitchhiker's Guide, #2)\", \"So Long, and Thanks for All the Fish (The Hitchhiker's Guide to the Galaxy, #4)\", 'The Long Dark Tea-Time of the Soul (Dirk Gently, #2)', 'The Long Dark Tea-Time of the Soul (Dirk Gently, #2)', 'El restaurante del fin del mundo', \"The Hitchhiker's Guide to the Galaxy: The Secondary Phase (Hitchhiker's Guide: Radio Play, #2)\", \"The Restaurant at the End of the Universe (Hitchhiker's Guide to the Galaxy, #2)\", \"Life, the Universe and Everything (Hitchhiker's Guide to the Galaxy, #3)\", \"Life, the Universe and Everything (Hitchhiker's Guide, #3)\", \"Mostly Harmless (Hitchhiker's Guide, #5)\", \"The More Than Complete Hitchhikers Guide (Hitchhiker's Guide, #1-4 + short story)\", 'Linnunradan käsikirja liftareille', \"So Long, and Thanks for All the Fish (Hitchhiker's Guide, #4)\", \"The Hitchhiker's Guide to the Galaxy (Hitchhiker's Guide, #1)\", \"The Hitchhiker's Guide to the Galaxy (Hitchhiker's Guide to the Galaxy, #1)\", 'The Salmon of Doubt: Hitchhiking the Galaxy One Last Time', \"The Restaurant at the End of the Universe (Hitchhiker's Guide, #2)\", \"Life, the Universe and Everything (Hitchhiker's Guide, #3)\", \"Life, the Universe and Everything (Hitchhiker's Guide, #3)\", \"Mostly Harmless (Hitchhiker's Guide to the Galaxy, #5)\", \"So Long, and Thanks for All the Fish (Hitchhiker's Guide to the Galaxy, #4)\", \"Life, the Universe and Everything (The Hitchhiker's Guide to the Galaxy, #3)\", \"So Long, and Thanks for All the Fish (Hitchhiker's Guide, #4)\", \"Life, the Universe and Everything (Hitchhiker's Guide, #3)\", \"The Hitchhiker's Guide to the Galaxy (Hitchhiker's Guide, #1)\", 'The Salmon of Doubt: Hitchhiking the Galaxy One Last Time', \"Dirk Gently's Holistic Detective Agency (Dirk Gently #1)\", \"The Restaurant at the End of the Universe (Hitchhiker's Guide, #2)\", 'Długi mroczny podwieczorek dusz', \"Holistyczna agencja detektywistyczna Dirka Gently'ego (Dirka Gently #1)\", 'Restaurant na konci vesmíru', 'Stopařův průvodce po Galaxii', 'Stopařův průvodce Galaxií (Stopařův průvodce Galaxií #1)', 'Restaurant na konci vesmíru (Stopařův průvodce Galaxií #2)', 'Život, vesmír a vůbec (Stopařův průvodce Galaxií #3)', 'Sbohem, a díky za ryby (Stopařův průvodce Galaxií #4)', 'Převážně neškodná (Stopařův průvodce Galaxií #5)', \"The Hitchhiker's Guide to the Galaxy (Hitchhiker's Guide, #1)\", 'Autostopem przez galaktykę (Autostopem przez Galaktykę, #1)', 'Restauracja na końcu wszechświata (Autostopem przez Galaktykę, #2)', 'Beau Comme Un Aéroport', 'The Salmon of Doubt (Dirk Gently, #3)', 'The Deeper Meaning of Liff', 'Ghidul Autostopistului Galactic', \"The Hitchhiker's Guide to the Galaxy (Hitchhiker's Guide to the Galaxy, #1)\", 'Holistická detektivní kancelář Dirka Gentlyho (Dirk Gently, #1)', 'Dlouhý, temný čas svačiny duše (Dirk Gently, #2)', 'Losos pochyb', 'O Restaurante no Fim do Universo (O Guia da Galáxia para quem anda à Boleia, #2)', 'Guía del autoestopista galáctico', 'Život, vesmír a vůbec (Stopařův průvodce po Galaxii, #3)', \"Life, the Universe and Everything (Hitchhiker's Guide, #3)\", 'Enimmäkseen harmiton (Linnunradan käsikirja liftareille #5)', 'Maailmanlopun ravintola', 'Maailmanlopun ravintola (Linnunradan käsikirja liftareille #2)', 'Linnunradan käsikirja liftareille', 'Last Chance to See', \"Mostly Harmless (Hitchhiker's Guide to the Galaxy, #5)\", 'The Long Dark Tea-Time of the Soul: Radio Play (Dirk Gently, #2)', \"Dirk Gently's Holistic Detective Agency (Dirk Gently #1)\", 'The Deeper Meaning of Liff', 'So Long, and Thanks for All the Fish', \"The Restaurant at the End of the Universe (Hitchhiker's Guide, #2)\", 'Liftarens guide till galaxen, del 1-5', 'Per Anhalter durch die Galaxis (Per Anhalter durch die Galaxis, #1)', 'The Salmon of Doubt: Hitchhiking the Galaxy One Last Time', \"The Hitchhiker's Guide to the Galaxy (Hitchhiker's Guide to the Galaxy, #1)\", \"Mostly Harmless (Hitchhiker's Guide, #5)\", 'Das Restaurant am Ende des Universums (Per Anhalter durch die Galaxis, #2)', \"Mostly Harmless (Hitchhiker's Guide, #5)\", 'Die letzten ihrer Art', 'Galaktikas ceļvedis stopētājiem (Triloģija četrās daļās, # 1)', 'Autostoperski vodič kroz galaksiju (Galaktički autostoperi, #1)', 'Das Leben, das Universum und der ganze Rest (Per Anhalter durch die Galaxis, #3)', \"The Hitchhiker's Guide to the Galaxy (Hitchhiker's Guide, #1)\", \"Life, the Universe and Everything (Hitchhiker's Guide, #3)\", \"So Long, and Thanks for All the Fish (Hitchhiker's Guide, #4)\", 'Restorāns Visuma galā (Triloģija četrās daļās, #2)', 'The Salmon of Doubt: Hitchhiking the Galaxy One Last Time', 'Guía do autoestopista galáctico', 'Převážně neškodná (Stopařův průvodce po Galaxii, #5)', 'Stopařův průvodce galaxií', 'Einmal Rupert und zurück (Per Anhalter durch die Galaxis, #5)', 'Liftarens guide till galaxen', 'Restaurangen vid slutet av universum', 'Livet, universum och allting', 'Ajöss och tack för fisken', 'Liftarens guide till galaxen', 'Dzīve, Visums un viss pārējais (Triloģija četrās daļās, # 3)', 'Atā, un paldies par zivīm! (Triloģija četrās daļās #4)', 'Voor het te laat is', \"Life, the Universe and Everything (Hitchhiker's Guide, #3)\", 'The Salmon of Doubt: Hitchhiking the Galaxy One Last Time', \"Mostly Harmless (The Hitchhiker's Guide to the Galaxy, #5)\", \"The Hitchhiker's Guide to the Galaxy (Hitchhiker's Guide, #1)\", \"Life, the Universe and Everything (Hitchhiker's Guide, #3)\", \"The Hitchhiker's Guide to the Galaxy (Hitchhiker's Guide, #1)\", \"H2 G2 - L'Integrale de la Trilogie en Cinq Volumes\", 'Das Restaurant am Ende des Universums (Per Anhalter durch die Galaxis, #2)', 'The Salmon of Doubt: Hitchhiking the Galaxy One Last Time', 'Le guide du voyageur galactique (H2G2, #1)', \"La Vie, l'Univers et le Reste (H2G2, #3)\", 'Le dernier Restaurant avant la fin du monde', 'Salut, et encore merci pour le poisson (H2G2, #4)', 'Per Anhalter Durch Die Galaxis (Per Anhalter durch die Galaxis, #1-5)', 'Einmal Rupert und zurück (Per Anhalter durch die Galaxis, #5)', 'Възможно най-пълният пътеводител на галактическия стопаджия (Пътеводител на галактическия стопаджия, #1-5 & разказ)', \"Dirk Gently's Holistic Detective Agency (Dirk Gently #1)\", 'Globalement inoffensive', \"Mostly Harmless (Hitchhiker's Guide, #5)\", \"The Hitchhiker's Guide to the Galaxy Collection (Hitchhiker's Guide, #1-5)\", 'Restaurant na konci vesmíru (Stopařův průvodce Galaxií, #2)', \"The Hitchhiker's Guide to the Galaxy (Hitchhiker's Guide, #1)\", \"Life, the Universe and Everything (Hitchhiker's Guide, #3)\", 'Einmal Rupert und zurück', 'Per Anhalter ins All 1/2: Schluß mit der Erde / Roboter und Doppelkopf', 'Per Anhalter ins All 5/6: Ein Tango am Ende der Welt / Die Erde hat uns wieder', \"Mostly Harmless (Hitchhiker's Guide, #5)\", 'Pöidlaküüdi reisijuht Galaktikas (Pöidlaküüdi reisijuht, #1)', 'Den komplette haikerens guide til galaksen', 'La vida, el universo y todo lo demás (Guía del autoestopista galáctico, #3)', 'Stopárov sprievodca galaxiou (Stopárov sprievodca galaxiou, #1)', 'Převážně neškodná (Stopařův průvodce galaxií, #5)', \"Per Anhalter durch die Galaxis (Hitchhiker's Guide, #1)\", 'Praticamente innocuo (Guida galattica per gli autostoppisti, #5)', 'O Guia do Mochileiro das Galáxias (O mochileiro das galáxias, #1)', 'O Restaurante no Fim do Universo (O Mochileiro das Galáxias, #2)', 'Até mais, e obrigado pelos peixes! (O mochileiro das galáxias, #4)', 'Praticamente inofensiva (O mochileiro das galáxias, #5)', 'Voor Het Te Laat Is', \"The Ultimate Hitchhiker's Guide to the Galaxy (Hitchhiker's Guide to the Galaxy #1-5)\", \"The Ultimate Hitchhiker's Guide to the Galaxy (Hitchhiker's Guide to the Galaxy #1-5)\", 'Trylogia autostopem przez galaktykę (Autostopem przez Galaktykę, #1-3)', \"The Hitchhiker's Guide to the Galaxy (Hitchhiker's Guide, #1)\", 'So Long, and Thanks for All the Fish', 'Life, the Universe and Everything', \"Ristorante al termine dell'universo\", 'Life, the Universe and Everything', \"The Hitchhiker's Guide to the Galaxy (Hitchhiker's Guide to the Galaxy, #1)\", 'So Long, and Thanks for All the Fish', 'The Restaurant at the End of the Universe', 'Mostly Harmless', 'The Long Dark Tea-Time Of The Soul (Dirk Gently #2)', 'Przewodnik \"Autostopem przez Galaktykę\" (Autostopem przez Galaktykę, #1)', 'Restauracja na końcu wszechświata (Autostopem przez Galaktykę, #2)', 'Życie, wszechświat i cała reszta (Autostopem przez Galaktykę, #3)', 'Douglas Adams, 4 Vols. (Boxed)', 'Автостопом по Галактике. Ресторан \"У конца вселенной\"', 'Guida galattica per gli autostoppisti', \"The Ultimate Hitchhiker's Guide to the Galaxy (Hitchhiker's Guide to the Galaxy #1-5)\", 'Sielun pitkä pimeä teehetki', 'O Restaurante no Fim do Universo (O Mochileiro das Galáxias, #2)', 'A Vida, o Universo e Tudo Mais (O Mochileiro das Galáxias, #3)', 'Elämä, maailmankaikkeus ja kaikki (Linnunradan käsikirja liftareille #3)', 'O Guia do Mochileiro das Galáxias (O Mochileiro das Galáxias, #1)', 'Até mais, e obrigado pelos peixes! (O mochileiro das galáxias, #4)', 'Praticamente Inofensiva (O Mochileiro das Galáxias, #5)', 'Guida galattica per gli autostoppisti (Guida galattica per gli autostoppisti #1-5)', 'Dlouhý, temný čas svačiny duše (Dirk Gently #2)', \"Liftarens Guide till Galaxen  (Hitchhiker's Guide, #1-4)\", 'Il salmone del dubbio', 'Dirk Gently agenzia di investigazione olistica (Dirk Gently #1)', 'Otostopçunun Galaksi Rehberi (Otostopçu, #1)', 'Het leven, het heelal en de rest (Het Transgalactisch Liftershandboek #3)', \"Het transgalactische liftershandboek (Hitchhiker's Guide to the Galaxy #1)\", \"The Hitchhiker's Guide to the Galaxy (Hitchhiker's Guide, #1)\", \"The Restaurant at the End of the Universe (Hitchhiker's Guide, #2)\", \"The Hitchhiker's Guide to the Galaxy\", \"The Hitch Hiker's Guide to the Galaxy (The Hitchhiker's Guide to the Galaxy #1-5)\", \"Γυρίστε τον γαλαξία με ωτοστόπ (Hitchiker's Guide, #1)\", \"Per Anhalter durch die Galaxis (Hitchhiker's Guide, #1)\", 'Guida galattica per gli autostoppisti', 'Praticamente innocuo (Guida galattica per gli autostoppisti #5)', \"คู่มือท่องกาแล็กซีฉบับนักโบก (The Hitchhiker's Guide to the Galaxy)\", 'ภัตตาคารสุดปลายทางจักรวาล (The Restaurant at the End of the Universe)', 'Den Komplette Guide til Galaksen', \"The Ultimate Hitchhiker's Guide to the Galaxy (Hitchhiker's Guide to the Galaxy #1-5)\", 'Mostly Harmless', 'The Long Dark Tea-time of the Soul (Dirk Gently, #2)', 'Дърк Джентли: Холистична детективска агенция / Дългият мрачен следобеден чай на душата', 'Life, the Universe and Everything', 'Ghidul autostopistului galactic', 'Kuşkucu Somon: Galakside Son Bir Kez Otostop Çekmek (Dirk Gently #3)', \"The Hitchhiker's Guide to the Galaxy (Hitchhiker's Guide to the Galaxy, #1)\", \"The Restaurant at the End of the Universe (Hitchhiker's Guide to the Galaxy, #2)\", 'Life, the Universe, and Everything', \"Dirk Gently's Holistic Detective Agency (Dirk Gently #1)\", 'So Long, and Thanks for All the Fish', \"Mostly Harmless (Hitchhiker's Guide, #5)\", 'Den komplette haikerens guide til galaksen', 'Sielun pitkä pimeä teehetki (Dirk Gently, #2)', 'Cześć, i dzięki za ryby', 'W zasadzie niegroźna', \"La vita, l'universo e tutto quanto\", 'Vendéglő a világ végén', 'Galaxis útikalauz stopposoknak', 'The Meaning of Liff', \"Dirk Gently's holistisch detectivebureau (Dirk Gently #1)\", \"The Lost Chapters of the Hitchhiker's Guide to the Galaxy\", 'Ještě je můžeme vidět... (Výpravy za vymírajícími živočichy)', 'Evrenin Sonundaki Restoran (Otostopçu 2. Kitap)', 'Elveda ve Bütün O Balıklar İçin Teşekkürler (Otostopçu 4. Kitap)', 'Çoğunlukla Zararsız (Otostopçu 5. Kitap)', \"The Hitchhiker's Guide to the Galaxy (Hitchhiker's Guide to the Galaxy, #1)\", 'Autostoperski vodič kroz galaksiju (Autostoperski vodič #1-5)', 'Linnunradan käsikirja liftareille (Linnunradan käsikirja liftareille #1)', 'Terve, ja kiitos kaloista (Linnunradan käsikirja liftareille #4)', 'Dirk Gentlyn holistinen etsivätoimisto (Dirk Gently #1)', 'The Long Dark Tea-time of the Soul (Dirk Gently, #2)', 'Holistična detektivska pisarna Dirka Gentlyja (Dirka Gently #1)', 'Štoparski vodnik po Galaksiji: trilogija v štirih knjigah (#1-4)', 'Evrenin Sonundaki Restoran (Otostopçu, #2)', 'Hayat, Evren ve Her Şey (Otostopçu 3. Kitap)', \"The Hitchhiker's Guide to the Galaxy: Douglas Adams Live in Concert\", 'Ostatnia okazja, by ujrzeć', \"Mostly Harmless (Hitchhiker's Guide, #5)\", \"Mostly Harmless (Hitchhiker's Guide, #5)\", 'Vodič kroz galaksiju za autostopere #2', 'Tot ziens en bedankt voor de vis (Het Transgalactisch Liftershandboek #4)', 'Addio, e grazie per tutto il pesce', 'Il salmone del dubbio', \"Guida Galattica per gli Autostoppisti (Hitchhiker's Guide, #1)\", 'A Vida, o Universo e Tudo Mais (O Mochileiro das Galáxias, #3)', 'Last Chance to See', 'I stort sett menlös (I liftarens guide-trilogin #5)', 'La vida, el universo y todo lo demás (Guía del autoestopista galáctico, #3)', 'Lifarens guide till galaxen del 1-5', 'Ο Ντερκ Τζέντλυ ακολουθεί τη γάτα', \"The Hitchhiker's Guide to the Galaxy: A Trilogy in Four Parts (Hitchhiker's Guide, #1-4)\", \"The Hitchhiker's Guide To The Galaxy (Hitchhiker's Guide to the Galaxy, #1)\", 'Το ρεστωράν στο τέλος του Σύμπαντος', \"Αντίο κι ευχαριστώ για τα ψάρια (Hitchiker's Guide, #4)\", 'Μάλλον ακίνδυνος', \"Η ζωή, το σύμπαν και τα πάντα (Hitchiker's Guide, #3)\", 'Γυρίστε το γαλαξία με ώτο-στοπ', \"La lunga oscura pausa caffè dell'anima\", 'Автостопом по галактике', \"The Hitchhiker's Guide to the Galaxy (Hitchhiker's Guide, #1)\", \"Life, the Universe and Everything (Hitchhiker's Guide, #3)\", 'Дългият, мрачен следобеден чай на душата', 'これが見納め―絶滅危惧の生きものたち、最後の光景', 'The Private Life of Genghis Khan', \"The Restaurant at the End of the Universe (Hitchhiker's Guide to the Galaxy, #2)\", 'Skrivnostni zmenek z davno pozabljenimi bogovi', 'O Guia do Mochileiro das Galáxias (O mochileiro das galáxias, #1)', 'Hasta luego, y gracias por el pescado (Guía del autoestopista galáctico, #4)', \"The Hitchhiker's Guide to the Galaxy (Hitchhiker's Guide, #1)\", 'Het Transgalactisch Liftershandboek (Het Transgalactisch Liftershandboek #1)', 'O restaurante no fim do universo (O mochileiro das galáxias, #2)', 'Ruhun Uzun Karanlık Çay Saati', \"Mostly Harmless (Hitchhiker's Guide #5)\", \"The Restaurant at the End of the Universe (Hitchhiker's Guide, #2)\", \"Life, the Universe, and Everything (Hitchhiker's Guide, #3)\", 'Reštaurácia na konci vesmíru (Stopárov sprievodca galaxiou, #2)', 'Život, vesmír a všetko (Stopárov sprievodca galaxiou, #3)', 'Zbohom a ďakujeme za ryby (Stopárov sprievodca galaxiou, #4)', 'Zväčša neškodná (Stopárov sprievodca galaxiou, #5)', 'So Long, and Thanks for All the Fish', \"The Hitchhiker's Guide to the Galaxy (Hitchhiker's Guide to the Galaxy, #1)\", \"The Hitchhiker's Guide to the Galaxy (Hitchhiker's Guide, #1)\", \"The Restaurant at the End of the Universe (Hitchhiker's Guide, #2)\", \"The Hitch Hiker's Guide to the Galaxy (Hitchhiker's Guide to the Galaxy #1)\", \"Mostly Harmless (Hitchhiker's Guide, #5)\", \"So Long, and Thanks for All the Fish (Hitchhiker's Guide, #4)\", \"Life, the Universe, and Everything (Hitchhiker's Guide #3)\", \"The Hitchhiker's Guide to the Galaxy: Secondary Phase\", 'Dugo, mračno poslijepodne duše', 'Holistička detektivska agencija Dirka Gentlyja (Dirka Gently #1)', 'Vodič kroz galaksiju za autostopere', 'Život, univerzum i sve ostalo', 'Doviđenja, i hvala za sve one ribe', 'Uglavnom bezopasni', \"The Hitchhiker's Guide to the Galaxy (Hitchhiker's Guide to the Galaxy, #1)\", \"The Complete Hitchhiker's Guide to the Galaxy: The Trilogy of Five (Hitchhiker's Guide, #1-5)\", \"La vita, l'universo e tutto quanto (Guida galattica per gli autostoppisti, #3)\", 'Addio, e grazie per tutto il pesce', 'Praticamente innocuo', 'Guida galattica per gli autostoppisti', \"Ristorante al termine dell'Universo\", \"Ajöss och tack för fisken (Hitchhiker's Guide, #4)\", 'Tedags för dystra själar (Dirk Gently, #2)', \"Livet universum och allting (Hitchhiker's Guide, #3)\", 'Dirk Gentlys holistiska detektivbyrå (Dirk Gently, #1)', 'Sbohem a dík za ryby (Stopařův průvodce po Galaxii, #4)', \"The Hitchhiker's Guide to the Galaxy (Hitchhiker's Guide, #1)\", \"Η ζωή, το σύμπαν και τα πάντα (Hitchhiker's Guide, #3)\", 'Dirk Gently holisztikus nyomozóirodája (Dirk Gently #1)', \"Ristorante al termine dell'Universo (Guida Galattica per autostoppisti, #2)\", 'Guida galattica per gli autostoppisti', \"La vita, l'Universo e tutto quanto (Guida galattica per gli autostoppisti, #3)\", 'Addio, e grazie per tutto il pesce (Guida galattica per gli autostoppisti #4)', 'Praticamente innocuo (Guida galattica per gli autostoppisti, #5)', 'ชีวิต จักรวาล และทุกสรรพสิ่ง (Life, the Universe, and Everything)', \"The Hitchhiker's Guide to the Galaxy (Hitchhiker's Guide to the Galaxy, #1)\", \"The Hitchhiker's Guide to the Galaxy: The Tertiary Phase\", \"The Hitchhiker's Guide to the Galaxy\", \"Το ρεστωράν στο τέλος του σύμπαντος (Hitchhiker's Guide, #2)\", 'Štoparski vodnik po Galaksiji', 'Restavracija ob koncu Vesolja (Štoparski vodnik po Galaksiji, #2)', 'Losos dvoma: še zadnja štoparija po galaksiji', 'Informe sobre la Tierra: Fundamentalmente inofensiva (Guía del autoestopista galáctico, #5)', 'Restaurant at the End of the Universe', 'Life, the Universe and Everything', 'Douglas Adams-4 Vols (Boxed)', 'El restaurante del fin del mundo', 'Liftarens guide till galaxen', 'Agência de detectives holística (Dirk Gently #1)', \"L'investigatore olistico Dirk Gently\", 'Dirk Gently, agenzia investigativa olistica  (Dirk Gently #1)', \"The Hitchhiker's Guide to the Galaxy: The Trilogy of Five (Hitchhiker's Guide, #1-5)\", 'Deuses à Solta (Dirk Gently, #2)', \"Restaurangen vid slutet av Universum (Hitchhiker's Guide, #2)\", \"Livet, Universum och Allting (Hitchhiker's Guide, #3)\", \"Ajöss och Tack för Fisken (Hitchhiker's Guide, #4)\", \"The Hitchhiker's Guide to the Galaxy (Hitchhiker's Guide, #1)\", \"The Restaurant at the End of the Universe (Hitchhiker's Guide, #2)\", 'Dirk Gently, agenzia investigativa olistica (Dirk Gently #1)', \"Life, the Universe, and Everything (Hitchhiker's Guide, #3)\", 'Dirk Gently holisztikus nyomozóirodája (Dirk Gently #1)', 'Autostoperski vodič kroz galaksiju (Autostoperski vodič #1-5)', 'Elimäen kootut tarkoitukset', 'Guida galattica per gli autostoppisti', 'Håndbog for galakse-blaffere (#1)', \"Ristorante al termine dell'Universo\", \"La vita, l'universo e tutto quanto\", 'Addio, e grazie per tutto il pesce', \"Otostopçu'nun Galaksi Rehberi: Beşibiryerde\", 'Elimäen tarkoitus', \"Ristorante al termine dell'Universo (Guida galattica per gli autostoppisti, #2)\", \"La vita, l'universo e tutto quanto\", \"Young Zaphod Plays It Safe (Hitchhiker's Guide to the Galaxy, #0.5)\", 'Addio, e grazie per tutto il pesce', \"Per Anhalter durch die Galaxis (Hitchhiker's Guide, #1)\", 'Pöidlaküüdi reisijuht Galaktikas (Pöidlaküüdi reisijuht, #1)', 'Universumi lõpu restoran (Pöidlaküüdi reisijuht, #2)', 'Liftarens guide till galaxen', 'Holistyczna agencja detektywistyczna Dirka Gently (Dirka Gently #1)', 'Het leven, het heelal en de rest', 'Grotendeels ongevaarlijk (Het Transgalactisch Liftershandboek #5)', 'Tot ziens en bedankt voor de vis', 'Het restaurant aan het einde van het heelal', 'Het transgalactisch liftershandboek', 'Het restaurant aan het einde van het heelal', 'Grotendeels ongevaarlijk (Het Transgalactisch Liftershandboek #5)', 'Het leven, het heelal en de rest', 'Stopařův průvodce po Galaxii / Restaurant na konci vesmíru', 'Ještě jednou a naposledy stopem po galaxii aneb Losos pochybnosti', 'Holistička detektivska agencija Dirka Džentlija (Dirka Džentlija #1)', \"The Ultimate Hitchhiker's Guide (Hitchhiker's Guide to the Galaxy #1-5)\", 'Ruhun Uzun Karanlık Çay Saati (Dirk Gently, #2)', \"The Hitchhiker's Guide to the Galaxy (Hitchhiker's Guide to the Galaxy, #1)\", 'Guida galattica per gli autostoppisti: Il ciclo completo', 'Η ζωή το σύμπαν και τα πάντα', \"Αντίο κι ευχαριστώ για τα ψάρια (Hitchhiker's Guide to the Galaxy #4)\", \"The Complete Hitchhiker's Guide to the Galaxy: The Trilogy of Five\", 'Elu, Universum ja kõik (Pöidlaküüdi reisijuht, #3)', \"The Hitchhiker's Guide to the Galaxy Further Radio Scripts: The Tertiary, Quandary and Quintessential Phases\", 'The Salmon of Doubt', 'The Salmon of Doubt', \"The Hitchhiker's Guide to the Galaxy (Hitchhiker's Guide to the Galaxy, #1)\", \"The Hitchhiker's Guide to the Galaxy (Hitchhiker's Guide to the Galaxy, #1)\", 'Γυρίστε τον γαλαξία με ωτοστόπ', \"So Long, and Thanks for All the Fish (Hitchhiker's Guide to the Galaxy #4)\", 'Last Chance to See', \"Dirk Gently's Holistic Detective Agency (Dirk Gently #1)\", 'The Long Dark Tea-time of the Soul (Dirk Gently, #2)', 'The Salmon of Doubt', 'Douglas Adams liest aus seinem Reisebuch: \"Die Letzten ihrer Art\" und aus seiner Trilogie \"Per Anhalter durch die Galaxis\" (Live)', 'Elämä, maailmankaikkeus - ja kaikki', \"The Hitchhiker's Guide to the Galaxy (Hitchhiker's Guide to the Galaxy, #1)\", 'Автостопом по галактике. Ресторан \"У конца вселенной\"', 'Автостопом по галактике: Опять в путь', 'Kutsal Dedektiflik Bürosu (Dirk Gently Serisi #1)', 'Doctor Who: City of Death', 'The Long Dark Tea-Time of the Soul (Dirk Gently, #2)', \"Dirk Gently's Holistic Detective Agency (Dirk Gently, #1)\", 'Пътеводител на галактическия стопаджия (Пътеводител на галактическия стопаджия, #1)', 'Дърк Джентли: холистична детективска агенция (Дърк Джентли #1)', \"The Hitchhiker's Guide to the Galaxy (Hitchhiker's Guide, #1)\", 'I stort sett menlös (I liftarens guide-trilogin #5)', 'De lange donkere theetijd van de ziel', 'Macht’s gut, und danke für den Fisch (Per Anhalter durch die Galaxis #4)', \"Guia do Mochileiro das Galáxias (Hitchhiker's Guide to the Galaxy, #1-5)\", 'Doctor Who: City of Death: The BBC Full-Cast Television Soundtrack Starring Tom Baker', 'Τουρίστες στον πλανήτη Γη', 'Zadnja priložnost', 'Het restaurant aan het einde van het heelal (Het Transgalactisch liftershandboek #2)', \"Vodič kroz galaksiju za autostopere (Hitchhiker's Guide, #1-3)\", 'Kutsal Dedektiflik Bürosu (Dirk Gently #1)', 'The Long Dark Tea-Time of the Soul (Dirk Gently, #2)', 'The Long Dark Tea-Time of the Soul (Dirk Gently, #2)', 'Αρργκ! Αδιάφοροι ροκ ρυθμοί για γρήγορα κέρδη', 'Животът, Вселената и всичко останало (Пътеводител на галактическия стопаджия, #3)', 'Douglas Adams Live in Concert', \"The Hitchhiker's Guide to the Galaxy (Hitchhiker's Guide to the Galaxy, #1)\", \"Haikerens guide til galaksen (Hitchhiker's Guide to the Galaxy, #1)\", 'Štoparski vodnik po Galaksiji (Štoparski vodnik po Galaksiji, #1)', 'Grotendeels ongevaarlijk (Het Transgalactisch Liftershandboek #5)', \"Linnunradan käsikirja liftareille (The Hitchhiker's Guide to the Galaxy 1)\", \"The Hitchhiker's Guide to the Galaxy (Hitchhiker's Guide to the Galaxy, #1)\", 'Dirk Gentlys holistiska detektivbyrå (Dirk Gently #1)', 'Пътеводител на галактическия стопаджия (Пътеводител на галактическия стопаджия, #1-2)', 'Life, the Universe, and Everything', 'Life, the Universe and Everything', 'The Restaurant at the End of the Universe', 'Сьомгата на съмнението', 'Vodič kroz galaksiju za autostopere 2 (Vodič kroz galaksiju za autostopere #4-5)', \"Life, the Universe and Everything (Hitchhiker's Guide, #3)\", 'Holistická detektívna agentúra Dirka Gentlyho (Dirk Gently, #1)', 'Dlhý temný súmrak bohov', 'So Long, and Thanks for All the Fish', \"Het restaurant aan het eind van het heelal (Hitchhiker's Guide to the Galaxy, #2)\", 'A lélek hosszú, sötét teadélutánja (Dirk Gently, #2)', \"Dirk Gently's Holistic Detective Agency (Dirk Gently #1)\", \"Dirk Gently's Holistic Detective Agency (Dirk Gently #1)\", 'Αντίο κι Ευχαριστώ για τα ψάρια', \"Μάλλον Ακίνδυνος (Hitchhiker's Guide, #5)\", \"The Hitchhiker's Guide to the Galaxy - A trilogy in five parts #1-5\", 'Mostly Harmless', 'A kétség lazaca', \"Galaxis Útikalauz stopposoknak (Hitchhiker's Guide to the Galaxy, #1-5)\", 'O Guia do Mochileiro das Galáxias (O mochileiro das galáxias, #1)', \"The Restaurant at the End of the Universe (Hitchhiker's Guide, #2)\", 'Сбогом и благодаря за рибата (Пътеводител на галактическия стопаджия, #4)', 'Почти безобидна  (Пътеводител на галактическия стопаджия, #5)', 'The Deeper Meaning of Liff', 'Salmon of Doubt: Hitchhiking the Galaxy One Last Time', \"The Ultimate Hitchhiker's Guide to the Galaxy (Hitchhiker's Guide to the Galaxy #1-5)\", 'The Long Dark Tea-Time of the Soul (Dirk Gently, #2)', \"L'ultima occasione\", 'Last Chance to See', 'Last Chance To See', \"The Hitchhiker's Guide to the Galaxy (Hitchhiker's Guide to the Galaxy, #1)\", \"The Hitchhiker's Trilogy\", \"Life, the Universe and Everything (Hitchhiker's Guide, #3)\", \"Mostly Harmless (Hitchhiker's Guide, #5)\", 'The Long Dark Tea-Time of the Soul (Dirk Gently, #2)', \"H2G2 L'intégrale de la trilogie en 5 volumes\", 'Otostopçunun Galaksi Rehberi | beşibiryerde', 'The Salmon of Doubt', 'Kuşkucu Somon', \"Hitchhiker's Guide to the Galaxy\", 'Mostly Harmless', 'Restaurant at the End of the Universe', 'So Long, and Thanks for All the Fish', 'Life, the Universe and Everything', 'Last Chance to See', \"The Hitchhiker's Guide to the Galaxy (Hitchhiker's Guide to the Galaxy, #1)\", 'Ghidul autostopistului galactic', 'Keliautojo kosmostopu vadovas po galaktiką', 'Długi mroczny podwieczorek dusz', 'Last Chance to See', \"The Hitchhiker's Guide to the Galaxy\", \"The Hitchhiker's Guide to the Galaxy (Hitchhiker's Guide to the Galaxy #1)\", \"The Hitchhiker's Guide to the Galaxy (Hitchhiker's Guide to the Galaxy, #1)\", \"Life, the Universe and Everything (Hitchhiker's Trilogy)\", \"The Restaurant At the End of the Universe (Hitchhiker's Trilogy)\", 'Haikerens guide til galaksen (Haikerens guide, #1)', 'Terve, ja kiitos kaloista', \"The Hitchhiker's Guide to the Galaxy\", \"The Hitchhiker's Guide to the Galaxy: Further Radio Scripts\", \"The Hitchhiker's Guide to the Galaxy: Original Radio Scripts\", \"La lunga oscura pausa caffè dell'anima\", 'Last Chance To See', \"The Complete Hitchhiker's Guide to the Galaxy: The Trilogy of Five\", 'Coleção Douglas Adams: Box Digital - O guia do mochileiro das galáxias - Coleção Completa - 5 livros em 1', 'The Meaning of Liff (Meaning of Liff, #1)', \"The Hitchhiker's Guide to the Galaxy (Hitchhiker's Guide to the Galaxy, #1)\", 'The Salmon of Doubt (Dirk Gently 3)', \"Life, the Universe and Everything (Hitchhiker's Guide to the Galaxy, #3)\", 'The Restaurant at the End of the Universe (Hitchhikers Guide 2)', \"So Long, and Thanks for All the Fish (Hitchhiker's Guide to the Galaxy #4)\", 'Informe sobre la Tierra: Fundamentalmente inofensiva', 'The Meaning of Liff', \"The Complete Hitchhiker's Guide to the Galaxy: The Trilogy of Five\", \"The Restaurant at the End of the Universe (Hitchhiker's Guide, #2)\", 'Long Dark Tea-Time of the Soul', \"Douglas Adams 5 Books set: The Hitchhiker's Guide to the Galaxy, The Restaurant at the End of the Universe, Life The Universe and Everything, So Long and Thanks for all the Fish, and Mostly Harmless\", \"The Restaurant at the End of the Universe (Hitchhiker's Guide, #2)\", \"Life, the Universe and Everything (Hitchhiker's Guide, #3)\", \"The Hitchhiker's Guide to the Galaxy: Quandary Phase\", 'Dlugi mroczny podwieczorek dusz', \"Mostly Harmless (Hitchhiker's Guide to the Galaxy, #5)\", \"Hitchhiker'S Guide To The Galaxy 5 Book Box Set By Douglas Adams\", 'Još malo pa nestalo: autostoperski vodič kroz svet koji iščezava', 'Guida galattica per gli autostoppisti', 'Life, the Universe and Everything (Hitchhikers Guide 3)', 'Převážně neškodná (Stopařův průvodce galaxií  #5)', \"Az élet, a világmindenség meg minden (Hitchhiker's Guide, #3)\", \"Viszlát, és kösz a halakat! (Hitchhiker's Guide, #4)\", \"Jobbára ártalmatlan (Hitchhiker's Guide, #5)\", \"Mostly Harmless (Hitchhiker's Guide, #5)\", 'Автостопом по Галактике. Ресторан «У конца Вселенной»', 'Informe sobre la Tierra: Fundamentalmente inofensiva', \"The Hitchhiker's Guide to the Galaxy (Hitchhiker's Guide, #1)\", \"The Hitchhiker's Guide to the Galaxy (Hitchhiker's Guide, #1)\", 'Reštaurácia na konci vesmíru', 'Život, vesmír a všetko', 'Zbohom a ďakujeme za ryby (Stopárov sprievodca galaxiou, #4)', 'Dlhý temný súmrak bohov', 'Dlouhý, temný čas svačiny duše (Dirk Gently, #2)', 'Ресторантът на края на Вселената (Пътеводител на галактическия стопаджия, #2)', 'The Hitchhikers Guide To The Galaxy', 'The Restaurant at the End of the Universe (Hitchhikers Guide 2)', 'The Restaurant at the End of the Universe', \"The Hitchhiker's Guide to the Galaxy\", \"The Hitchhiker's Guide to the Galaxy\", \"The Restaurant at the End of the Universe (Hitchhiker's Guide, #2)\", 'The Long Dark Tea-Time of the Soul', \"The Hitchhiker's Guide To The Galaxy: Secondary Phase\", \"Complete Hitchhiker's Guide to the Galaxy\", \"The Restaurant at the End of the Universe (Hitchhiker's Guide, #2)\", \"Dirk Gently's Holistic Detective Agency (Dirk Gently #1)\", 'The Long Dark Tea-Time of the Soul', \"The Hitchhiker's Guide to the Galaxy\", 'The Restaurant at the End of the Universe', 'Life, the Universe and Everything', 'Mostly Harmless', 'The Restaurant at the End of the Universe', 'Life, the Universe and Everything', 'So Long, and Thanks for All the Fish', \"Dirk Gently's Holistic Detective Agency\", 'The Long Dark Tea-time of the Soul (Dirk Gently, #2)', 'Zadnja priložnost', \"Her Otostopçunun Galaksi Rehberi (Hitchhiker's Guide, #1)\", \"Το ρεστωράν στο τέλος του Σύμπαντος  (Hitchhiker's Guide, #2)\", \"Life, the Universe and Everything (Hitchhiker's Guide to the Galaxy, #3)\", 'Autostoperski vodič kroz Galaksiju (Autostoperski vodič #1-5)', \"Life, The Universe, and Everything (Hitch Hiker's Guide to the Galaxy, #3)\", \"The Hitchhiker's Guide to the Galaxy (Hitchhiker's Guide, #1)\", 'O Salmão da Dúvida', 'Долгое чаепитие (Dirk Gently, #2)', 'Ghidul autostopistului galactic', \"The Hitchhiker's Guide to the Galaxy (Hitchhiker's Guide, #1)\", 'The Long Dark Tea-Time of the Soul', 'The Restaurant at the End of the Universe', 'Der lange dunkle Fünfuhrtee der Seele (Dirk Gently, #2)', 'O mochileiro das galáxias (O mochileiro das galáxias, #1)', \"Dirk Gently's Holistic Detective Agency (Dirk Gently #1)\", \"Dirk Gently's Holistic Detective Agency (Dirk Gently #1)\", \"Dirk Gently's Holistic Detective Agency (Dirk Gently #1)\", 'Galaxis útikalauz stopposoknak', 'Mostly Harmless (Hitchhikers Guide 5)', 'Dirk Gentlyn holistinen etsivätoimisto', \"Dirk Gently's Holistic Detective Agency (Dirk Gently #1)\", \"Dirk Gently's Holistic Detective Agency (Dirk Gently #1)\", \"Dirk Gently's Holistic Detective Agency (Dirk Gently #1)\", 'Holistična detektivska pisarna Dirka Gentlyja (Dirk Gently #1)', 'Holistická detektivní kancelář Dirka Gentlyho (Dirka Gently #1)', 'Un cheval dans la salle de bains (Dirk Gentle #1)', 'Guía del autoestopista galáctico', \"Dirk Gently's Holistic Detective Agency (Dirk Gently #1)\", 'Nägemiseni, ja aitäh kala eest (Pöidlaküüdi reisijuht #4)', 'Enamasti ohutu (Pöidlaküüdi reisijuht, #5)', \"The Hitchhiker's Guide to the Galaxy (Hitchhiker's Guide to the Galaxy, #1)\", \"The Hitch Hiker's Guide to the Galaxy: The Nearly Definitive Edition (Hitchhiker's Guide to the Galaxy #1-5)\", \"The Hitchhiker's Guide to the Galaxy (Hitchhiker's Guide, #1)\", 'The Hitchhiker S Guide to the Galaxy: Quandary Phase', 'The Hitchhiker S Guide to the Galaxy: Quandary Phase', \"Guia galàctica per a autostopistes (Hitchhiker's Guide to the Galaxy #1)\", \"Il salmone del dubbio: L'ultimo giro in autostop per la galassia\", \"The Hitchhiker's Guide to the Galaxy: A Trilogy in Four Parts\", \"The Hitch Hiker's Guide to the Galaxy: A Trilogy in Five Parts\", 'Evrenin Sonundaki Restoran', 'Guida galattica per gli autostoppisti', \"The Hitchhiker's Guide to the Galaxy\", 'Дългият, мрачен следобеден чай на душата / Дърк Джентли - Холистична детективска агенция', 'Last Chance to See', \"The Hitchhiker's Guide to the Galaxy: Original Radio Scripts\", 'Restoran na kraju Vaseljene (Galaktički autostoperi, #2)', 'The Long Dark Tea-Time of the Soul (Dirk Gently, #2)', \"Galaxis Útikalauz stopposoknak (Hitchhiker's Guide to the Galaxy #1-5)\", \"So Long, and Thanks for All the Fish (Hitchhiker's Guide, #4)\", 'Hoşçakal Balık İçin Teşekkürler', \"Guida galattica per gli autostoppisti (Hitchhiker's Guide to the Galaxy, #1)\", 'Restaurangen vid slutet av universum', \"Dirk Gently's Holistic Detective Agency (Dirk Gently #1)\", 'Elimäen perimmäinen tarkoitus', 'Per Anhalter durch die Galaxis 1: Das Restaurant am Ende des Universums', '宇宙の果てのレストラン [Uchū no hate no resutoran]', '銀河ヒッチハイク・ガイド [Ginga hitchihaiku gaido]', 'ほとんど無害 [Hotondo mugai]', '宇宙クリケット大戦争 [Uchū kuriketto daisensō]', 'さようなら、いままで魚をありがとう [Sayōnara imamade sakana o arigatō]', 'Автостопом по Галактике (Автостопом по Галактике, #1-2)', 'Douglas Adams Collection (Hitch-Hikers Guide to the Galaxy)', 'Duga, mračna čajanka duše', 'The Restaurant at the End of the Universe', \"The Hitchhiker's Guide to the Galaxy (Hitchhiker's Guide to the Galaxy, #1)\", 'Losos sumnje', 'Agência de investigações holísticas Dirk Gently (Dirk Gently #1)', 'Автостопом по галактике. Опять в путь', \"Three book set, includes The Salmon of Doubt, Dirk Gently's Holistic Detective Agency, and The Long Dark Tea-Time of the Soul\", \"Dirk Gently's Holistic Detective Agency (Dirk Gently #1)\", 'Douglas Adams: The Ultimate Collection', \"Hitchhiker's (Douglas Adams' Hitchhiker's guide)\", 'Stopárov sprievodca galaxiou', 'Reštaurácia na konci vesmíru', 'Zväčša neškodná', 'Guida galattica per gli autostoppisti', 'Autostoperski vodič kroz galaksiju', 'The Long Dark Tea-time of the Soul (Dirk Gently, #2)', \"Hitchhiker's Guide to the Galaxy: Original Radio Scripts\"]}\n"
     ]
    }
   ],
   "source": [
    "# List of author IDs\n",
    "author_ids = [4]\n",
    "\n",
    "# Use the function\n",
    "author_books_dict = get_author_books(author_ids)\n",
    "\n",
    "# Print the result\n",
    "print(author_books_dict)"
   ]
  },
  {
   "cell_type": "markdown",
   "metadata": {},
   "source": [
    "To find the longest book title among the books of the top 20 authors regarding their average rating"
   ]
  },
  {
   "cell_type": "code",
   "execution_count": 88,
   "metadata": {},
   "outputs": [
    {
     "name": "stdout",
     "output_type": "stream",
     "text": [
      "Longest book title among the books of the top 20 authors is: Domestic Politics and Family Absence: The Correspondence (1588-1621) of Robert Sidney, First Earl of Leicester, and Barbara Gamage Sidney, Countess of Leicester\n"
     ]
    }
   ],
   "source": [
    "# Get the top 20 authors sorted by average_rating\n",
    "top_20_authors = df_lighter_books.sort(col(\"average_rating\").desc()).limit(20)\n",
    "\n",
    "# Add a column with the length of each title\n",
    "top_20_authors = top_20_authors.withColumn(\"title_length\", length(col(\"title\")))\n",
    "\n",
    "# Find the title with the maximum length\n",
    "longest_title_among_top_20 = top_20_authors.sort(col(\"title_length\").desc()).select(\"title\").first()[0]\n",
    "\n",
    "print(\"Longest book title among the books of the top 20 authors is:\", longest_title_among_top_20)"
   ]
  },
  {
   "cell_type": "markdown",
   "metadata": {},
   "source": [
    "To find the longest book title overall"
   ]
  },
  {
   "cell_type": "code",
   "execution_count": 89,
   "metadata": {},
   "outputs": [
    {
     "name": "stdout",
     "output_type": "stream",
     "text": [
      "Longest book title overall is: A General Introduction to Domesday Book: Accompanied by Indexes of the Tenants-In-Chief, and Under-Tenants, at the Time of the Survey: As Well as of the Holders of Lands Mentioned in Domesday Anterior to the Formation of That Record: With an Abstract o...\n"
     ]
    }
   ],
   "source": [
    "# Add a column with the length of each title\n",
    "longest_title = df_lighter_books.withColumn(\"title_length\", length(col(\"title\")))\n",
    "\n",
    "# Find the title with the maximum length\n",
    "longest_title_name = longest_title.sort(col(\"title_length\").desc()).select(\"title\").first()[0]\n",
    "\n",
    "print(\"Longest book title overall is:\", longest_title_name)"
   ]
  },
  {
   "cell_type": "markdown",
   "metadata": {},
   "source": [
    "Hence, the longest book title among the books of the top 20 authors is not the longest book title overall."
   ]
  },
  {
   "cell_type": "code",
   "execution_count": 90,
   "metadata": {},
   "outputs": [
    {
     "name": "stdout",
     "output_type": "stream",
     "text": [
      "Shortest book title overall is: a\n"
     ]
    }
   ],
   "source": [
    "# Find the title with the minimum length\n",
    "shortest_title_name = longest_title.sort(col(\"title_length\").asc()).select(\"title\").first()[0]\n",
    "\n",
    "print(\"Shortest book title overall is:\", shortest_title_name)"
   ]
  },
  {
   "cell_type": "markdown",
   "metadata": {},
   "source": [
    "The shortest title being \"a\" might be a bit unusual, but it's not impossible. There are indeed books with very short titles, including one-letter titles. However, if we suspect that this might be due to an error in data entry or processing, it could be worth investigating further. But for now, we will assume that the data is correct."
   ]
  },
  {
   "cell_type": "markdown",
   "metadata": {},
   "source": []
  }
 ],
 "metadata": {
  "kernelspec": {
   "display_name": "base",
   "language": "python",
   "name": "python3"
  },
  "language_info": {
   "codemirror_mode": {
    "name": "ipython",
    "version": 3
   },
   "file_extension": ".py",
   "mimetype": "text/x-python",
   "name": "python",
   "nbconvert_exporter": "python",
   "pygments_lexer": "ipython3",
   "version": "3.11.4"
  }
 },
 "nbformat": 4,
 "nbformat_minor": 2
}
